{
  "nbformat": 4,
  "nbformat_minor": 0,
  "metadata": {
    "colab": {
      "provenance": []
    },
    "kernelspec": {
      "name": "python3",
      "display_name": "Python 3"
    },
    "language_info": {
      "name": "python"
    }
  },
  "cells": [
    {
      "cell_type": "code",
      "execution_count": 1,
      "metadata": {
        "colab": {
          "base_uri": "https://localhost:8080/",
          "height": 299
        },
        "id": "bYF7GXomc5v_",
        "outputId": "06e3e342-9335-457d-b869-4e094edc4c79"
      },
      "outputs": [
        {
          "output_type": "execute_result",
          "data": {
            "text/plain": [
              "   SEX  EDUC  INDEPEND  CDRGLOB  NPISCORE  NACCGDS  FAQ  NACCMMSE  NACCAGEB  \\\n",
              "0    1    99         1        1        12        4    2        23        73   \n",
              "1    1    99         1        1         0        0    1        29        74   \n",
              "2    1    99         1        2         3        0   25        22        73   \n",
              "3    1    99         4        3         4        0   30        18        73   \n",
              "4    0    25         1        0         0        1    0        30        71   \n",
              "\n",
              "   NACCAPOE  ...     RCUNM      RENT     RENTM  RINFTEMM  Hippovol_Occort  \\\n",
              "0         1  ...  0.001041  0.003513  0.004086  0.002526         0.126450   \n",
              "1         1  ...  0.001654  0.003704  0.004827  0.002564         0.086455   \n",
              "2         1  ...  0.000811  0.004033  0.003522  0.002136         0.104945   \n",
              "3         1  ...  0.000752  0.003076  0.002382  0.001659         0.103015   \n",
              "4         1  ...  0.001264  0.003974  0.003697  0.002493         0.103726   \n",
              "\n",
              "   Hippo_fr  Hippo_par  Temp_occort  Temp_par   Temp_fr  \n",
              "0  0.042046   0.075462     2.144147  1.279577  0.712947  \n",
              "1  0.037737   0.064686     1.615824  1.208971  0.705289  \n",
              "2  0.035688   0.064903     2.288053  1.415045  0.778073  \n",
              "3  0.035785   0.064656     2.228278  1.398555  0.774040  \n",
              "4  0.033687   0.062293     2.064083  1.239595  0.670345  \n",
              "\n",
              "[5 rows x 34 columns]"
            ],
            "text/html": [
              "\n",
              "  <div id=\"df-01651be0-1ed5-4dff-bac7-ee057832a323\">\n",
              "    <div class=\"colab-df-container\">\n",
              "      <div>\n",
              "<style scoped>\n",
              "    .dataframe tbody tr th:only-of-type {\n",
              "        vertical-align: middle;\n",
              "    }\n",
              "\n",
              "    .dataframe tbody tr th {\n",
              "        vertical-align: top;\n",
              "    }\n",
              "\n",
              "    .dataframe thead th {\n",
              "        text-align: right;\n",
              "    }\n",
              "</style>\n",
              "<table border=\"1\" class=\"dataframe\">\n",
              "  <thead>\n",
              "    <tr style=\"text-align: right;\">\n",
              "      <th></th>\n",
              "      <th>SEX</th>\n",
              "      <th>EDUC</th>\n",
              "      <th>INDEPEND</th>\n",
              "      <th>CDRGLOB</th>\n",
              "      <th>NPISCORE</th>\n",
              "      <th>NACCGDS</th>\n",
              "      <th>FAQ</th>\n",
              "      <th>NACCMMSE</th>\n",
              "      <th>NACCAGEB</th>\n",
              "      <th>NACCAPOE</th>\n",
              "      <th>...</th>\n",
              "      <th>RCUNM</th>\n",
              "      <th>RENT</th>\n",
              "      <th>RENTM</th>\n",
              "      <th>RINFTEMM</th>\n",
              "      <th>Hippovol_Occort</th>\n",
              "      <th>Hippo_fr</th>\n",
              "      <th>Hippo_par</th>\n",
              "      <th>Temp_occort</th>\n",
              "      <th>Temp_par</th>\n",
              "      <th>Temp_fr</th>\n",
              "    </tr>\n",
              "  </thead>\n",
              "  <tbody>\n",
              "    <tr>\n",
              "      <th>0</th>\n",
              "      <td>1</td>\n",
              "      <td>99</td>\n",
              "      <td>1</td>\n",
              "      <td>1</td>\n",
              "      <td>12</td>\n",
              "      <td>4</td>\n",
              "      <td>2</td>\n",
              "      <td>23</td>\n",
              "      <td>73</td>\n",
              "      <td>1</td>\n",
              "      <td>...</td>\n",
              "      <td>0.001041</td>\n",
              "      <td>0.003513</td>\n",
              "      <td>0.004086</td>\n",
              "      <td>0.002526</td>\n",
              "      <td>0.126450</td>\n",
              "      <td>0.042046</td>\n",
              "      <td>0.075462</td>\n",
              "      <td>2.144147</td>\n",
              "      <td>1.279577</td>\n",
              "      <td>0.712947</td>\n",
              "    </tr>\n",
              "    <tr>\n",
              "      <th>1</th>\n",
              "      <td>1</td>\n",
              "      <td>99</td>\n",
              "      <td>1</td>\n",
              "      <td>1</td>\n",
              "      <td>0</td>\n",
              "      <td>0</td>\n",
              "      <td>1</td>\n",
              "      <td>29</td>\n",
              "      <td>74</td>\n",
              "      <td>1</td>\n",
              "      <td>...</td>\n",
              "      <td>0.001654</td>\n",
              "      <td>0.003704</td>\n",
              "      <td>0.004827</td>\n",
              "      <td>0.002564</td>\n",
              "      <td>0.086455</td>\n",
              "      <td>0.037737</td>\n",
              "      <td>0.064686</td>\n",
              "      <td>1.615824</td>\n",
              "      <td>1.208971</td>\n",
              "      <td>0.705289</td>\n",
              "    </tr>\n",
              "    <tr>\n",
              "      <th>2</th>\n",
              "      <td>1</td>\n",
              "      <td>99</td>\n",
              "      <td>1</td>\n",
              "      <td>2</td>\n",
              "      <td>3</td>\n",
              "      <td>0</td>\n",
              "      <td>25</td>\n",
              "      <td>22</td>\n",
              "      <td>73</td>\n",
              "      <td>1</td>\n",
              "      <td>...</td>\n",
              "      <td>0.000811</td>\n",
              "      <td>0.004033</td>\n",
              "      <td>0.003522</td>\n",
              "      <td>0.002136</td>\n",
              "      <td>0.104945</td>\n",
              "      <td>0.035688</td>\n",
              "      <td>0.064903</td>\n",
              "      <td>2.288053</td>\n",
              "      <td>1.415045</td>\n",
              "      <td>0.778073</td>\n",
              "    </tr>\n",
              "    <tr>\n",
              "      <th>3</th>\n",
              "      <td>1</td>\n",
              "      <td>99</td>\n",
              "      <td>4</td>\n",
              "      <td>3</td>\n",
              "      <td>4</td>\n",
              "      <td>0</td>\n",
              "      <td>30</td>\n",
              "      <td>18</td>\n",
              "      <td>73</td>\n",
              "      <td>1</td>\n",
              "      <td>...</td>\n",
              "      <td>0.000752</td>\n",
              "      <td>0.003076</td>\n",
              "      <td>0.002382</td>\n",
              "      <td>0.001659</td>\n",
              "      <td>0.103015</td>\n",
              "      <td>0.035785</td>\n",
              "      <td>0.064656</td>\n",
              "      <td>2.228278</td>\n",
              "      <td>1.398555</td>\n",
              "      <td>0.774040</td>\n",
              "    </tr>\n",
              "    <tr>\n",
              "      <th>4</th>\n",
              "      <td>0</td>\n",
              "      <td>25</td>\n",
              "      <td>1</td>\n",
              "      <td>0</td>\n",
              "      <td>0</td>\n",
              "      <td>1</td>\n",
              "      <td>0</td>\n",
              "      <td>30</td>\n",
              "      <td>71</td>\n",
              "      <td>1</td>\n",
              "      <td>...</td>\n",
              "      <td>0.001264</td>\n",
              "      <td>0.003974</td>\n",
              "      <td>0.003697</td>\n",
              "      <td>0.002493</td>\n",
              "      <td>0.103726</td>\n",
              "      <td>0.033687</td>\n",
              "      <td>0.062293</td>\n",
              "      <td>2.064083</td>\n",
              "      <td>1.239595</td>\n",
              "      <td>0.670345</td>\n",
              "    </tr>\n",
              "  </tbody>\n",
              "</table>\n",
              "<p>5 rows × 34 columns</p>\n",
              "</div>\n",
              "      <button class=\"colab-df-convert\" onclick=\"convertToInteractive('df-01651be0-1ed5-4dff-bac7-ee057832a323')\"\n",
              "              title=\"Convert this dataframe to an interactive table.\"\n",
              "              style=\"display:none;\">\n",
              "        \n",
              "  <svg xmlns=\"http://www.w3.org/2000/svg\" height=\"24px\"viewBox=\"0 0 24 24\"\n",
              "       width=\"24px\">\n",
              "    <path d=\"M0 0h24v24H0V0z\" fill=\"none\"/>\n",
              "    <path d=\"M18.56 5.44l.94 2.06.94-2.06 2.06-.94-2.06-.94-.94-2.06-.94 2.06-2.06.94zm-11 1L8.5 8.5l.94-2.06 2.06-.94-2.06-.94L8.5 2.5l-.94 2.06-2.06.94zm10 10l.94 2.06.94-2.06 2.06-.94-2.06-.94-.94-2.06-.94 2.06-2.06.94z\"/><path d=\"M17.41 7.96l-1.37-1.37c-.4-.4-.92-.59-1.43-.59-.52 0-1.04.2-1.43.59L10.3 9.45l-7.72 7.72c-.78.78-.78 2.05 0 2.83L4 21.41c.39.39.9.59 1.41.59.51 0 1.02-.2 1.41-.59l7.78-7.78 2.81-2.81c.8-.78.8-2.07 0-2.86zM5.41 20L4 18.59l7.72-7.72 1.47 1.35L5.41 20z\"/>\n",
              "  </svg>\n",
              "      </button>\n",
              "      \n",
              "  <style>\n",
              "    .colab-df-container {\n",
              "      display:flex;\n",
              "      flex-wrap:wrap;\n",
              "      gap: 12px;\n",
              "    }\n",
              "\n",
              "    .colab-df-convert {\n",
              "      background-color: #E8F0FE;\n",
              "      border: none;\n",
              "      border-radius: 50%;\n",
              "      cursor: pointer;\n",
              "      display: none;\n",
              "      fill: #1967D2;\n",
              "      height: 32px;\n",
              "      padding: 0 0 0 0;\n",
              "      width: 32px;\n",
              "    }\n",
              "\n",
              "    .colab-df-convert:hover {\n",
              "      background-color: #E2EBFA;\n",
              "      box-shadow: 0px 1px 2px rgba(60, 64, 67, 0.3), 0px 1px 3px 1px rgba(60, 64, 67, 0.15);\n",
              "      fill: #174EA6;\n",
              "    }\n",
              "\n",
              "    [theme=dark] .colab-df-convert {\n",
              "      background-color: #3B4455;\n",
              "      fill: #D2E3FC;\n",
              "    }\n",
              "\n",
              "    [theme=dark] .colab-df-convert:hover {\n",
              "      background-color: #434B5C;\n",
              "      box-shadow: 0px 1px 3px 1px rgba(0, 0, 0, 0.15);\n",
              "      filter: drop-shadow(0px 1px 2px rgba(0, 0, 0, 0.3));\n",
              "      fill: #FFFFFF;\n",
              "    }\n",
              "  </style>\n",
              "\n",
              "      <script>\n",
              "        const buttonEl =\n",
              "          document.querySelector('#df-01651be0-1ed5-4dff-bac7-ee057832a323 button.colab-df-convert');\n",
              "        buttonEl.style.display =\n",
              "          google.colab.kernel.accessAllowed ? 'block' : 'none';\n",
              "\n",
              "        async function convertToInteractive(key) {\n",
              "          const element = document.querySelector('#df-01651be0-1ed5-4dff-bac7-ee057832a323');\n",
              "          const dataTable =\n",
              "            await google.colab.kernel.invokeFunction('convertToInteractive',\n",
              "                                                     [key], {});\n",
              "          if (!dataTable) return;\n",
              "\n",
              "          const docLinkHtml = 'Like what you see? Visit the ' +\n",
              "            '<a target=\"_blank\" href=https://colab.research.google.com/notebooks/data_table.ipynb>data table notebook</a>'\n",
              "            + ' to learn more about interactive tables.';\n",
              "          element.innerHTML = '';\n",
              "          dataTable['output_type'] = 'display_data';\n",
              "          await google.colab.output.renderOutput(dataTable, element);\n",
              "          const docLink = document.createElement('div');\n",
              "          docLink.innerHTML = docLinkHtml;\n",
              "          element.appendChild(docLink);\n",
              "        }\n",
              "      </script>\n",
              "    </div>\n",
              "  </div>\n",
              "  "
            ]
          },
          "metadata": {},
          "execution_count": 1
        }
      ],
      "source": [
        "import pandas as pd\n",
        "data = pd.read_excel(\"data.xlsx\")\n",
        "data.head()"
      ]
    },
    {
      "cell_type": "code",
      "source": [
        "MR_data = data.iloc[:,10:]"
      ],
      "metadata": {
        "id": "eDNQWVbGdcA5"
      },
      "execution_count": 2,
      "outputs": []
    },
    {
      "cell_type": "code",
      "source": [
        "MR_data.head()"
      ],
      "metadata": {
        "colab": {
          "base_uri": "https://localhost:8080/",
          "height": 299
        },
        "id": "I9fbnp8OdxGB",
        "outputId": "0bedd5f3-7377-4cb3-c518-6fce604ba4f7"
      },
      "execution_count": 3,
      "outputs": [
        {
          "output_type": "execute_result",
          "data": {
            "text/plain": [
              "     CSFVOL   GRAYVOL    WMHVOL  HIPPOVOL  CERETISS   LATVENT    FRCORT  \\\n",
              "0  0.292152  0.531248  0.004900  0.006389  0.871991  0.019802  0.151948   \n",
              "1  0.368581  0.597176  0.004121  0.006376  0.876882  0.027894  0.168972   \n",
              "2  0.346972  0.591807  0.008354  0.005591  0.856409  0.093293  0.156661   \n",
              "3  0.439212  0.551721  0.010212  0.005143  0.854985  0.105919  0.143722   \n",
              "4  0.336681  0.597124  0.003368  0.006026  0.869324  0.022648  0.178872   \n",
              "\n",
              "    OCCCORT   PARCORT   TEMPCOR  ...     RCUNM      RENT     RENTM  RINFTEMM  \\\n",
              "0  0.050524  0.084661  0.108331  ...  0.001041  0.003513  0.004086  0.002526   \n",
              "1  0.073754  0.098575  0.119174  ...  0.001654  0.003704  0.004827  0.002564   \n",
              "2  0.053274  0.086141  0.121894  ...  0.000811  0.004033  0.003522  0.002136   \n",
              "3  0.049925  0.079544  0.111246  ...  0.000752  0.003076  0.002382  0.001659   \n",
              "4  0.058092  0.096730  0.119906  ...  0.001264  0.003974  0.003697  0.002493   \n",
              "\n",
              "   Hippovol_Occort  Hippo_fr  Hippo_par  Temp_occort  Temp_par   Temp_fr  \n",
              "0         0.126450  0.042046   0.075462     2.144147  1.279577  0.712947  \n",
              "1         0.086455  0.037737   0.064686     1.615824  1.208971  0.705289  \n",
              "2         0.104945  0.035688   0.064903     2.288053  1.415045  0.778073  \n",
              "3         0.103015  0.035785   0.064656     2.228278  1.398555  0.774040  \n",
              "4         0.103726  0.033687   0.062293     2.064083  1.239595  0.670345  \n",
              "\n",
              "[5 rows x 24 columns]"
            ],
            "text/html": [
              "\n",
              "  <div id=\"df-9503dff3-9ee3-4bcd-9e4c-c3a3be35c045\">\n",
              "    <div class=\"colab-df-container\">\n",
              "      <div>\n",
              "<style scoped>\n",
              "    .dataframe tbody tr th:only-of-type {\n",
              "        vertical-align: middle;\n",
              "    }\n",
              "\n",
              "    .dataframe tbody tr th {\n",
              "        vertical-align: top;\n",
              "    }\n",
              "\n",
              "    .dataframe thead th {\n",
              "        text-align: right;\n",
              "    }\n",
              "</style>\n",
              "<table border=\"1\" class=\"dataframe\">\n",
              "  <thead>\n",
              "    <tr style=\"text-align: right;\">\n",
              "      <th></th>\n",
              "      <th>CSFVOL</th>\n",
              "      <th>GRAYVOL</th>\n",
              "      <th>WMHVOL</th>\n",
              "      <th>HIPPOVOL</th>\n",
              "      <th>CERETISS</th>\n",
              "      <th>LATVENT</th>\n",
              "      <th>FRCORT</th>\n",
              "      <th>OCCCORT</th>\n",
              "      <th>PARCORT</th>\n",
              "      <th>TEMPCOR</th>\n",
              "      <th>...</th>\n",
              "      <th>RCUNM</th>\n",
              "      <th>RENT</th>\n",
              "      <th>RENTM</th>\n",
              "      <th>RINFTEMM</th>\n",
              "      <th>Hippovol_Occort</th>\n",
              "      <th>Hippo_fr</th>\n",
              "      <th>Hippo_par</th>\n",
              "      <th>Temp_occort</th>\n",
              "      <th>Temp_par</th>\n",
              "      <th>Temp_fr</th>\n",
              "    </tr>\n",
              "  </thead>\n",
              "  <tbody>\n",
              "    <tr>\n",
              "      <th>0</th>\n",
              "      <td>0.292152</td>\n",
              "      <td>0.531248</td>\n",
              "      <td>0.004900</td>\n",
              "      <td>0.006389</td>\n",
              "      <td>0.871991</td>\n",
              "      <td>0.019802</td>\n",
              "      <td>0.151948</td>\n",
              "      <td>0.050524</td>\n",
              "      <td>0.084661</td>\n",
              "      <td>0.108331</td>\n",
              "      <td>...</td>\n",
              "      <td>0.001041</td>\n",
              "      <td>0.003513</td>\n",
              "      <td>0.004086</td>\n",
              "      <td>0.002526</td>\n",
              "      <td>0.126450</td>\n",
              "      <td>0.042046</td>\n",
              "      <td>0.075462</td>\n",
              "      <td>2.144147</td>\n",
              "      <td>1.279577</td>\n",
              "      <td>0.712947</td>\n",
              "    </tr>\n",
              "    <tr>\n",
              "      <th>1</th>\n",
              "      <td>0.368581</td>\n",
              "      <td>0.597176</td>\n",
              "      <td>0.004121</td>\n",
              "      <td>0.006376</td>\n",
              "      <td>0.876882</td>\n",
              "      <td>0.027894</td>\n",
              "      <td>0.168972</td>\n",
              "      <td>0.073754</td>\n",
              "      <td>0.098575</td>\n",
              "      <td>0.119174</td>\n",
              "      <td>...</td>\n",
              "      <td>0.001654</td>\n",
              "      <td>0.003704</td>\n",
              "      <td>0.004827</td>\n",
              "      <td>0.002564</td>\n",
              "      <td>0.086455</td>\n",
              "      <td>0.037737</td>\n",
              "      <td>0.064686</td>\n",
              "      <td>1.615824</td>\n",
              "      <td>1.208971</td>\n",
              "      <td>0.705289</td>\n",
              "    </tr>\n",
              "    <tr>\n",
              "      <th>2</th>\n",
              "      <td>0.346972</td>\n",
              "      <td>0.591807</td>\n",
              "      <td>0.008354</td>\n",
              "      <td>0.005591</td>\n",
              "      <td>0.856409</td>\n",
              "      <td>0.093293</td>\n",
              "      <td>0.156661</td>\n",
              "      <td>0.053274</td>\n",
              "      <td>0.086141</td>\n",
              "      <td>0.121894</td>\n",
              "      <td>...</td>\n",
              "      <td>0.000811</td>\n",
              "      <td>0.004033</td>\n",
              "      <td>0.003522</td>\n",
              "      <td>0.002136</td>\n",
              "      <td>0.104945</td>\n",
              "      <td>0.035688</td>\n",
              "      <td>0.064903</td>\n",
              "      <td>2.288053</td>\n",
              "      <td>1.415045</td>\n",
              "      <td>0.778073</td>\n",
              "    </tr>\n",
              "    <tr>\n",
              "      <th>3</th>\n",
              "      <td>0.439212</td>\n",
              "      <td>0.551721</td>\n",
              "      <td>0.010212</td>\n",
              "      <td>0.005143</td>\n",
              "      <td>0.854985</td>\n",
              "      <td>0.105919</td>\n",
              "      <td>0.143722</td>\n",
              "      <td>0.049925</td>\n",
              "      <td>0.079544</td>\n",
              "      <td>0.111246</td>\n",
              "      <td>...</td>\n",
              "      <td>0.000752</td>\n",
              "      <td>0.003076</td>\n",
              "      <td>0.002382</td>\n",
              "      <td>0.001659</td>\n",
              "      <td>0.103015</td>\n",
              "      <td>0.035785</td>\n",
              "      <td>0.064656</td>\n",
              "      <td>2.228278</td>\n",
              "      <td>1.398555</td>\n",
              "      <td>0.774040</td>\n",
              "    </tr>\n",
              "    <tr>\n",
              "      <th>4</th>\n",
              "      <td>0.336681</td>\n",
              "      <td>0.597124</td>\n",
              "      <td>0.003368</td>\n",
              "      <td>0.006026</td>\n",
              "      <td>0.869324</td>\n",
              "      <td>0.022648</td>\n",
              "      <td>0.178872</td>\n",
              "      <td>0.058092</td>\n",
              "      <td>0.096730</td>\n",
              "      <td>0.119906</td>\n",
              "      <td>...</td>\n",
              "      <td>0.001264</td>\n",
              "      <td>0.003974</td>\n",
              "      <td>0.003697</td>\n",
              "      <td>0.002493</td>\n",
              "      <td>0.103726</td>\n",
              "      <td>0.033687</td>\n",
              "      <td>0.062293</td>\n",
              "      <td>2.064083</td>\n",
              "      <td>1.239595</td>\n",
              "      <td>0.670345</td>\n",
              "    </tr>\n",
              "  </tbody>\n",
              "</table>\n",
              "<p>5 rows × 24 columns</p>\n",
              "</div>\n",
              "      <button class=\"colab-df-convert\" onclick=\"convertToInteractive('df-9503dff3-9ee3-4bcd-9e4c-c3a3be35c045')\"\n",
              "              title=\"Convert this dataframe to an interactive table.\"\n",
              "              style=\"display:none;\">\n",
              "        \n",
              "  <svg xmlns=\"http://www.w3.org/2000/svg\" height=\"24px\"viewBox=\"0 0 24 24\"\n",
              "       width=\"24px\">\n",
              "    <path d=\"M0 0h24v24H0V0z\" fill=\"none\"/>\n",
              "    <path d=\"M18.56 5.44l.94 2.06.94-2.06 2.06-.94-2.06-.94-.94-2.06-.94 2.06-2.06.94zm-11 1L8.5 8.5l.94-2.06 2.06-.94-2.06-.94L8.5 2.5l-.94 2.06-2.06.94zm10 10l.94 2.06.94-2.06 2.06-.94-2.06-.94-.94-2.06-.94 2.06-2.06.94z\"/><path d=\"M17.41 7.96l-1.37-1.37c-.4-.4-.92-.59-1.43-.59-.52 0-1.04.2-1.43.59L10.3 9.45l-7.72 7.72c-.78.78-.78 2.05 0 2.83L4 21.41c.39.39.9.59 1.41.59.51 0 1.02-.2 1.41-.59l7.78-7.78 2.81-2.81c.8-.78.8-2.07 0-2.86zM5.41 20L4 18.59l7.72-7.72 1.47 1.35L5.41 20z\"/>\n",
              "  </svg>\n",
              "      </button>\n",
              "      \n",
              "  <style>\n",
              "    .colab-df-container {\n",
              "      display:flex;\n",
              "      flex-wrap:wrap;\n",
              "      gap: 12px;\n",
              "    }\n",
              "\n",
              "    .colab-df-convert {\n",
              "      background-color: #E8F0FE;\n",
              "      border: none;\n",
              "      border-radius: 50%;\n",
              "      cursor: pointer;\n",
              "      display: none;\n",
              "      fill: #1967D2;\n",
              "      height: 32px;\n",
              "      padding: 0 0 0 0;\n",
              "      width: 32px;\n",
              "    }\n",
              "\n",
              "    .colab-df-convert:hover {\n",
              "      background-color: #E2EBFA;\n",
              "      box-shadow: 0px 1px 2px rgba(60, 64, 67, 0.3), 0px 1px 3px 1px rgba(60, 64, 67, 0.15);\n",
              "      fill: #174EA6;\n",
              "    }\n",
              "\n",
              "    [theme=dark] .colab-df-convert {\n",
              "      background-color: #3B4455;\n",
              "      fill: #D2E3FC;\n",
              "    }\n",
              "\n",
              "    [theme=dark] .colab-df-convert:hover {\n",
              "      background-color: #434B5C;\n",
              "      box-shadow: 0px 1px 3px 1px rgba(0, 0, 0, 0.15);\n",
              "      filter: drop-shadow(0px 1px 2px rgba(0, 0, 0, 0.3));\n",
              "      fill: #FFFFFF;\n",
              "    }\n",
              "  </style>\n",
              "\n",
              "      <script>\n",
              "        const buttonEl =\n",
              "          document.querySelector('#df-9503dff3-9ee3-4bcd-9e4c-c3a3be35c045 button.colab-df-convert');\n",
              "        buttonEl.style.display =\n",
              "          google.colab.kernel.accessAllowed ? 'block' : 'none';\n",
              "\n",
              "        async function convertToInteractive(key) {\n",
              "          const element = document.querySelector('#df-9503dff3-9ee3-4bcd-9e4c-c3a3be35c045');\n",
              "          const dataTable =\n",
              "            await google.colab.kernel.invokeFunction('convertToInteractive',\n",
              "                                                     [key], {});\n",
              "          if (!dataTable) return;\n",
              "\n",
              "          const docLinkHtml = 'Like what you see? Visit the ' +\n",
              "            '<a target=\"_blank\" href=https://colab.research.google.com/notebooks/data_table.ipynb>data table notebook</a>'\n",
              "            + ' to learn more about interactive tables.';\n",
              "          element.innerHTML = '';\n",
              "          dataTable['output_type'] = 'display_data';\n",
              "          await google.colab.output.renderOutput(dataTable, element);\n",
              "          const docLink = document.createElement('div');\n",
              "          docLink.innerHTML = docLinkHtml;\n",
              "          element.appendChild(docLink);\n",
              "        }\n",
              "      </script>\n",
              "    </div>\n",
              "  </div>\n",
              "  "
            ]
          },
          "metadata": {},
          "execution_count": 3
        }
      ]
    },
    {
      "cell_type": "code",
      "source": [
        "from sklearn.preprocessing import MinMaxScaler\n",
        "scaler = MinMaxScaler()\n",
        "MR_scaled = scaler.fit_transform(MR_data)\n",
        "MR_scaled"
      ],
      "metadata": {
        "colab": {
          "base_uri": "https://localhost:8080/"
        },
        "id": "m-Z_K_Rnd5UI",
        "outputId": "5cc32561-e3b1-4e16-f529-63f8fc19eae1"
      },
      "execution_count": 4,
      "outputs": [
        {
          "output_type": "execute_result",
          "data": {
            "text/plain": [
              "array([[0.27429336, 0.31495106, 0.02594904, ..., 0.7822485 , 0.7340178 ,\n",
              "        0.66667735],\n",
              "       [0.5137701 , 0.58624189, 0.0218258 , ..., 0.58950048, 0.69351511,\n",
              "        0.65951616],\n",
              "       [0.44606307, 0.56414902, 0.0442461 , ..., 0.83474968, 0.8117274 ,\n",
              "        0.72757697],\n",
              "       ...,\n",
              "       [0.69148082, 0.44257101, 0.01524551, ..., 0.71184192, 0.78070268,\n",
              "        0.66819917],\n",
              "       [0.63737968, 0.62709001, 0.17205586, ..., 0.63281583, 0.63382155,\n",
              "        0.66857352],\n",
              "       [0.51103198, 0.55599344, 0.20048655, ..., 0.91835355, 0.72824683,\n",
              "        0.65967944]])"
            ]
          },
          "metadata": {},
          "execution_count": 4
        }
      ]
    },
    {
      "cell_type": "code",
      "source": [
        "from sklearn.metrics import silhouette_samples, silhouette_score\n",
        "from sklearn.cluster import KMeans\n",
        "import matplotlib.pyplot as plt\n",
        "import matplotlib.cm as cm\n",
        "import numpy as np"
      ],
      "metadata": {
        "id": "-WgpBCDhf1h9"
      },
      "execution_count": 5,
      "outputs": []
    },
    {
      "cell_type": "code",
      "source": [
        "kmeans = KMeans(n_clusters=10, random_state=0)\n",
        "clusters = kmeans.fit_predict(MR_scaled)"
      ],
      "metadata": {
        "id": "8iszuW1hfTaS"
      },
      "execution_count": 6,
      "outputs": []
    },
    {
      "cell_type": "code",
      "source": [
        "clusters"
      ],
      "metadata": {
        "colab": {
          "base_uri": "https://localhost:8080/"
        },
        "id": "6VOpTm5EfpXB",
        "outputId": "e77952c8-b174-478f-bb8e-5a1dbd72ca9e"
      },
      "execution_count": 7,
      "outputs": [
        {
          "output_type": "execute_result",
          "data": {
            "text/plain": [
              "array([5, 8, 2, ..., 2, 6, 9], dtype=int32)"
            ]
          },
          "metadata": {},
          "execution_count": 7
        }
      ]
    },
    {
      "cell_type": "code",
      "source": [
        "list_SS = []\n",
        "for i in range (2,10):    \n",
        "  clusterer = KMeans(n_clusters=i, random_state=10)\n",
        "  cluster_labels = clusterer.fit_predict(MR_scaled)\n",
        "  silhouette_avg = silhouette_score(MR_scaled, cluster_labels)\n",
        "  list_SS.append(silhouette_avg)\n",
        "list_SS"
      ],
      "metadata": {
        "colab": {
          "base_uri": "https://localhost:8080/"
        },
        "id": "vg-M_2vogF27",
        "outputId": "d8a2db0f-81dd-41b8-e9f4-9735aee885be"
      },
      "execution_count": 8,
      "outputs": [
        {
          "output_type": "execute_result",
          "data": {
            "text/plain": [
              "[0.14456717924041876,\n",
              " 0.1337333435147112,\n",
              " 0.10798295630463906,\n",
              " 0.11458258621149457,\n",
              " 0.0996597201283208,\n",
              " 0.09953500143167839,\n",
              " 0.09568718480177212,\n",
              " 0.09171442068682371]"
            ]
          },
          "metadata": {},
          "execution_count": 8
        }
      ]
    },
    {
      "cell_type": "code",
      "source": [
        "xx = np.arange(2,10)"
      ],
      "metadata": {
        "id": "b0x0R3HIhHoF"
      },
      "execution_count": 10,
      "outputs": []
    },
    {
      "cell_type": "code",
      "source": [
        "plt.plot(xx,list_SS)"
      ],
      "metadata": {
        "colab": {
          "base_uri": "https://localhost:8080/",
          "height": 283
        },
        "id": "htBYBJbJg8Xo",
        "outputId": "88a27520-fdab-400d-dffb-e8e92dcb34aa"
      },
      "execution_count": 11,
      "outputs": [
        {
          "output_type": "execute_result",
          "data": {
            "text/plain": [
              "[<matplotlib.lines.Line2D at 0x7f365df3c850>]"
            ]
          },
          "metadata": {},
          "execution_count": 11
        },
        {
          "output_type": "display_data",
          "data": {
            "text/plain": [
              "<Figure size 432x288 with 1 Axes>"
            ],
            "image/png": "[encoded data removed]"
          },
          "metadata": {
            "needs_background": "light"
          }
        }
      ]
    },
    {
      "cell_type": "code",
      "source": [
        "kmeans = KMeans(n_clusters=5, random_state=0)\n",
        "clusters = kmeans.fit_predict(MR_scaled)\n",
        "clusters"
      ],
      "metadata": {
        "colab": {
          "base_uri": "https://localhost:8080/"
        },
        "id": "GjFbQzY1hX3n",
        "outputId": "315735ec-0283-4e78-934d-8f6526b3992b"
      },
      "execution_count": 12,
      "outputs": [
        {
          "output_type": "execute_result",
          "data": {
            "text/plain": [
              "array([2, 1, 4, ..., 0, 0, 2], dtype=int32)"
            ]
          },
          "metadata": {},
          "execution_count": 12
        }
      ]
    },
    {
      "cell_type": "code",
      "source": [
        "clusters_pd = pd.DataFrame(clusters)\n",
        "clusters_pd.value_counts()"
      ],
      "metadata": {
        "colab": {
          "base_uri": "https://localhost:8080/"
        },
        "id": "z1QsuSqIhhub",
        "outputId": "0c75135b-3e2a-442f-ff1a-9923e64d3c10"
      },
      "execution_count": 13,
      "outputs": [
        {
          "output_type": "execute_result",
          "data": {
            "text/plain": [
              "3    472\n",
              "1    374\n",
              "4    290\n",
              "0    267\n",
              "2    192\n",
              "dtype: int64"
            ]
          },
          "metadata": {},
          "execution_count": 13
        }
      ]
    },
    {
      "cell_type": "code",
      "source": [],
      "metadata": {
        "id": "GiL8cj2iiAMN"
      },
      "execution_count": 13,
      "outputs": []
    },
    {
      "cell_type": "code",
      "source": [
        "MR_data.pivot_table('CSFVOL', index=clusters, columns=data['CDRGLOB'], aggfunc=\"count\")"
      ],
      "metadata": {
        "colab": {
          "base_uri": "https://localhost:8080/",
          "height": 206
        },
        "id": "yHp4_9Trh1JL",
        "outputId": "3cf72b27-f100-43ac-d91e-78c48bca6b21"
      },
      "execution_count": 14,
      "outputs": [
        {
          "output_type": "execute_result",
          "data": {
            "text/plain": [
              "CDRGLOB      0      1     2     3\n",
              "0         66.0   93.0  73.0  35.0\n",
              "1        245.0  116.0  13.0   NaN\n",
              "2        122.0   56.0  12.0   2.0\n",
              "3        395.0   65.0  11.0   1.0\n",
              "4        146.0   85.0  41.0  18.0"
            ],
            "text/html": [
              "\n",
              "  <div id=\"df-80341001-9e0c-4c63-a4a2-75f34bef9501\">\n",
              "    <div class=\"colab-df-container\">\n",
              "      <div>\n",
              "<style scoped>\n",
              "    .dataframe tbody tr th:only-of-type {\n",
              "        vertical-align: middle;\n",
              "    }\n",
              "\n",
              "    .dataframe tbody tr th {\n",
              "        vertical-align: top;\n",
              "    }\n",
              "\n",
              "    .dataframe thead th {\n",
              "        text-align: right;\n",
              "    }\n",
              "</style>\n",
              "<table border=\"1\" class=\"dataframe\">\n",
              "  <thead>\n",
              "    <tr style=\"text-align: right;\">\n",
              "      <th>CDRGLOB</th>\n",
              "      <th>0</th>\n",
              "      <th>1</th>\n",
              "      <th>2</th>\n",
              "      <th>3</th>\n",
              "    </tr>\n",
              "  </thead>\n",
              "  <tbody>\n",
              "    <tr>\n",
              "      <th>0</th>\n",
              "      <td>66.0</td>\n",
              "      <td>93.0</td>\n",
              "      <td>73.0</td>\n",
              "      <td>35.0</td>\n",
              "    </tr>\n",
              "    <tr>\n",
              "      <th>1</th>\n",
              "      <td>245.0</td>\n",
              "      <td>116.0</td>\n",
              "      <td>13.0</td>\n",
              "      <td>NaN</td>\n",
              "    </tr>\n",
              "    <tr>\n",
              "      <th>2</th>\n",
              "      <td>122.0</td>\n",
              "      <td>56.0</td>\n",
              "      <td>12.0</td>\n",
              "      <td>2.0</td>\n",
              "    </tr>\n",
              "    <tr>\n",
              "      <th>3</th>\n",
              "      <td>395.0</td>\n",
              "      <td>65.0</td>\n",
              "      <td>11.0</td>\n",
              "      <td>1.0</td>\n",
              "    </tr>\n",
              "    <tr>\n",
              "      <th>4</th>\n",
              "      <td>146.0</td>\n",
              "      <td>85.0</td>\n",
              "      <td>41.0</td>\n",
              "      <td>18.0</td>\n",
              "    </tr>\n",
              "  </tbody>\n",
              "</table>\n",
              "</div>\n",
              "      <button class=\"colab-df-convert\" onclick=\"convertToInteractive('df-80341001-9e0c-4c63-a4a2-75f34bef9501')\"\n",
              "              title=\"Convert this dataframe to an interactive table.\"\n",
              "              style=\"display:none;\">\n",
              "        \n",
              "  <svg xmlns=\"http://www.w3.org/2000/svg\" height=\"24px\"viewBox=\"0 0 24 24\"\n",
              "       width=\"24px\">\n",
              "    <path d=\"M0 0h24v24H0V0z\" fill=\"none\"/>\n",
              "    <path d=\"M18.56 5.44l.94 2.06.94-2.06 2.06-.94-2.06-.94-.94-2.06-.94 2.06-2.06.94zm-11 1L8.5 8.5l.94-2.06 2.06-.94-2.06-.94L8.5 2.5l-.94 2.06-2.06.94zm10 10l.94 2.06.94-2.06 2.06-.94-2.06-.94-.94-2.06-.94 2.06-2.06.94z\"/><path d=\"M17.41 7.96l-1.37-1.37c-.4-.4-.92-.59-1.43-.59-.52 0-1.04.2-1.43.59L10.3 9.45l-7.72 7.72c-.78.78-.78 2.05 0 2.83L4 21.41c.39.39.9.59 1.41.59.51 0 1.02-.2 1.41-.59l7.78-7.78 2.81-2.81c.8-.78.8-2.07 0-2.86zM5.41 20L4 18.59l7.72-7.72 1.47 1.35L5.41 20z\"/>\n",
              "  </svg>\n",
              "      </button>\n",
              "      \n",
              "  <style>\n",
              "    .colab-df-container {\n",
              "      display:flex;\n",
              "      flex-wrap:wrap;\n",
              "      gap: 12px;\n",
              "    }\n",
              "\n",
              "    .colab-df-convert {\n",
              "      background-color: #E8F0FE;\n",
              "      border: none;\n",
              "      border-radius: 50%;\n",
              "      cursor: pointer;\n",
              "      display: none;\n",
              "      fill: #1967D2;\n",
              "      height: 32px;\n",
              "      padding: 0 0 0 0;\n",
              "      width: 32px;\n",
              "    }\n",
              "\n",
              "    .colab-df-convert:hover {\n",
              "      background-color: #E2EBFA;\n",
              "      box-shadow: 0px 1px 2px rgba(60, 64, 67, 0.3), 0px 1px 3px 1px rgba(60, 64, 67, 0.15);\n",
              "      fill: #174EA6;\n",
              "    }\n",
              "\n",
              "    [theme=dark] .colab-df-convert {\n",
              "      background-color: #3B4455;\n",
              "      fill: #D2E3FC;\n",
              "    }\n",
              "\n",
              "    [theme=dark] .colab-df-convert:hover {\n",
              "      background-color: #434B5C;\n",
              "      box-shadow: 0px 1px 3px 1px rgba(0, 0, 0, 0.15);\n",
              "      filter: drop-shadow(0px 1px 2px rgba(0, 0, 0, 0.3));\n",
              "      fill: #FFFFFF;\n",
              "    }\n",
              "  </style>\n",
              "\n",
              "      <script>\n",
              "        const buttonEl =\n",
              "          document.querySelector('#df-80341001-9e0c-4c63-a4a2-75f34bef9501 button.colab-df-convert');\n",
              "        buttonEl.style.display =\n",
              "          google.colab.kernel.accessAllowed ? 'block' : 'none';\n",
              "\n",
              "        async function convertToInteractive(key) {\n",
              "          const element = document.querySelector('#df-80341001-9e0c-4c63-a4a2-75f34bef9501');\n",
              "          const dataTable =\n",
              "            await google.colab.kernel.invokeFunction('convertToInteractive',\n",
              "                                                     [key], {});\n",
              "          if (!dataTable) return;\n",
              "\n",
              "          const docLinkHtml = 'Like what you see? Visit the ' +\n",
              "            '<a target=\"_blank\" href=https://colab.research.google.com/notebooks/data_table.ipynb>data table notebook</a>'\n",
              "            + ' to learn more about interactive tables.';\n",
              "          element.innerHTML = '';\n",
              "          dataTable['output_type'] = 'display_data';\n",
              "          await google.colab.output.renderOutput(dataTable, element);\n",
              "          const docLink = document.createElement('div');\n",
              "          docLink.innerHTML = docLinkHtml;\n",
              "          element.appendChild(docLink);\n",
              "        }\n",
              "      </script>\n",
              "    </div>\n",
              "  </div>\n",
              "  "
            ]
          },
          "metadata": {},
          "execution_count": 14
        }
      ]
    },
    {
      "cell_type": "code",
      "source": [
        "from sklearn.manifold import TSNE\n",
        "# Project the data: this step will take several seconds\n",
        "tsne = TSNE(n_components=2, init='random', random_state=0)\n",
        "data_tsne = tsne.fit_transform(MR_scaled)"
      ],
      "metadata": {
        "colab": {
          "base_uri": "https://localhost:8080/"
        },
        "id": "eYVAniw4ji2l",
        "outputId": "854f0eab-5eda-4e3f-a9ee-a2a8fba05ea9"
      },
      "execution_count": null,
      "outputs": [
        {
          "output_type": "stream",
          "name": "stderr",
          "text": [
            "/usr/local/lib/python3.8/dist-packages/sklearn/manifold/_t_sne.py:790: FutureWarning: The default learning rate in TSNE will change from 200.0 to 'auto' in 1.2.\n",
            "  warnings.warn(\n"
          ]
        }
      ]
    },
    {
      "cell_type": "code",
      "source": [
        "from sklearn.decomposition import PCA\n",
        "pca = PCA(n_components=2)\n",
        "data_pca = pca.fit_transform(MR_scaled)"
      ],
      "metadata": {
        "id": "-xQeq6rVSM21"
      },
      "execution_count": 15,
      "outputs": []
    },
    {
      "cell_type": "code",
      "source": [
        "list_SS = []\n",
        "for i in range (2,10):    \n",
        "  clusterer = KMeans(n_clusters=i, random_state=10)\n",
        "  cluster_labels = clusterer.fit_predict(data_tsne)\n",
        "  silhouette_avg = silhouette_score(data_tsne, cluster_labels)\n",
        "  list_SS.append(silhouette_avg)\n",
        "list_SS"
      ],
      "metadata": {
        "colab": {
          "base_uri": "https://localhost:8080/"
        },
        "id": "9-IQw6uPjzkT",
        "outputId": "733865f7-c50c-4f87-c951-9befce3af05a"
      },
      "execution_count": null,
      "outputs": [
        {
          "output_type": "execute_result",
          "data": {
            "text/plain": [
              "[0.399417,\n",
              " 0.38588968,\n",
              " 0.40254787,\n",
              " 0.40619043,\n",
              " 0.41405478,\n",
              " 0.40804332,\n",
              " 0.3904577,\n",
              " 0.38652024]"
            ]
          },
          "metadata": {},
          "execution_count": 21
        }
      ]
    },
    {
      "cell_type": "code",
      "source": [
        "list_SS = []\n",
        "for i in range (2,10):    \n",
        "  clusterer = KMeans(n_clusters=i, random_state=10)\n",
        "  cluster_labels = clusterer.fit_predict(data_pca)\n",
        "  silhouette_avg = silhouette_score(data_pca, cluster_labels)\n",
        "  list_SS.append(silhouette_avg)\n",
        "list_SS"
      ],
      "metadata": {
        "colab": {
          "base_uri": "https://localhost:8080/"
        },
        "id": "2ZW7cWPuSqAK",
        "outputId": "30088e67-6cc8-4244-e627-12d5ac3056c1"
      },
      "execution_count": 16,
      "outputs": [
        {
          "output_type": "execute_result",
          "data": {
            "text/plain": [
              "[0.31369836315310384,\n",
              " 0.3383489826888122,\n",
              " 0.31144165739358576,\n",
              " 0.31555628504013516,\n",
              " 0.32851393721292216,\n",
              " 0.3151149451437068,\n",
              " 0.32196072366096246,\n",
              " 0.31265172625185694]"
            ]
          },
          "metadata": {},
          "execution_count": 16
        }
      ]
    },
    {
      "cell_type": "code",
      "source": [
        "plt.plot(xx,list_SS)"
      ],
      "metadata": {
        "colab": {
          "base_uri": "https://localhost:8080/",
          "height": 283
        },
        "id": "4OFPwdF9kFIX",
        "outputId": "c29ab650-62e9-45aa-f8b6-1fe737a44e50"
      },
      "execution_count": 17,
      "outputs": [
        {
          "output_type": "execute_result",
          "data": {
            "text/plain": [
              "[<matplotlib.lines.Line2D at 0x7f365ae444c0>]"
            ]
          },
          "metadata": {},
          "execution_count": 17
        },
        {
          "output_type": "display_data",
          "data": {
            "text/plain": [
              "<Figure size 432x288 with 1 Axes>"
            ],
            "image/png": "[encoded data removed]"
          },
          "metadata": {
            "needs_background": "light"
          }
        }
      ]
    },
    {
      "cell_type": "code",
      "source": [
        "kmeans = KMeans(n_clusters=3, random_state=0)\n",
        "clusters = kmeans.fit_predict(data_pca)\n",
        "clusters"
      ],
      "metadata": {
        "colab": {
          "base_uri": "https://localhost:8080/"
        },
        "id": "0CqDsaFrkNGW",
        "outputId": "d1355406-7892-4789-f9dc-f9fe689809d7"
      },
      "execution_count": 26,
      "outputs": [
        {
          "output_type": "execute_result",
          "data": {
            "text/plain": [
              "array([0, 2, 1, ..., 1, 1, 2], dtype=int32)"
            ]
          },
          "metadata": {},
          "execution_count": 26
        }
      ]
    },
    {
      "cell_type": "code",
      "source": [
        "clusters_pd = pd.DataFrame(clusters)\n",
        "clusters_pd.value_counts()"
      ],
      "metadata": {
        "colab": {
          "base_uri": "https://localhost:8080/"
        },
        "id": "52A-vw9mkY2u",
        "outputId": "1f909780-5752-480d-d8ac-2f2e1eddfc69"
      },
      "execution_count": 20,
      "outputs": [
        {
          "output_type": "execute_result",
          "data": {
            "text/plain": [
              "0    620\n",
              "2    507\n",
              "1    468\n",
              "dtype: int64"
            ]
          },
          "metadata": {},
          "execution_count": 20
        }
      ]
    },
    {
      "cell_type": "code",
      "source": [
        "MR_data.pivot_table('CSFVOL', index=clusters, columns=data['CDRGLOB'], aggfunc=\"count\")"
      ],
      "metadata": {
        "colab": {
          "base_uri": "https://localhost:8080/",
          "height": 143
        },
        "id": "wzA1iyRhkgi7",
        "outputId": "69ebdcf5-2f9e-421c-d863-de5bf68ce30c"
      },
      "execution_count": 21,
      "outputs": [
        {
          "output_type": "execute_result",
          "data": {
            "text/plain": [
              "CDRGLOB    0    1   2   3\n",
              "0        471  112  28   9\n",
              "1        178  148  98  44\n",
              "2        325  155  24   3"
            ],
            "text/html": [
              "\n",
              "  <div id=\"df-e98e5a84-575e-4e69-85dc-a68fedaa27dc\">\n",
              "    <div class=\"colab-df-container\">\n",
              "      <div>\n",
              "<style scoped>\n",
              "    .dataframe tbody tr th:only-of-type {\n",
              "        vertical-align: middle;\n",
              "    }\n",
              "\n",
              "    .dataframe tbody tr th {\n",
              "        vertical-align: top;\n",
              "    }\n",
              "\n",
              "    .dataframe thead th {\n",
              "        text-align: right;\n",
              "    }\n",
              "</style>\n",
              "<table border=\"1\" class=\"dataframe\">\n",
              "  <thead>\n",
              "    <tr style=\"text-align: right;\">\n",
              "      <th>CDRGLOB</th>\n",
              "      <th>0</th>\n",
              "      <th>1</th>\n",
              "      <th>2</th>\n",
              "      <th>3</th>\n",
              "    </tr>\n",
              "  </thead>\n",
              "  <tbody>\n",
              "    <tr>\n",
              "      <th>0</th>\n",
              "      <td>471</td>\n",
              "      <td>112</td>\n",
              "      <td>28</td>\n",
              "      <td>9</td>\n",
              "    </tr>\n",
              "    <tr>\n",
              "      <th>1</th>\n",
              "      <td>178</td>\n",
              "      <td>148</td>\n",
              "      <td>98</td>\n",
              "      <td>44</td>\n",
              "    </tr>\n",
              "    <tr>\n",
              "      <th>2</th>\n",
              "      <td>325</td>\n",
              "      <td>155</td>\n",
              "      <td>24</td>\n",
              "      <td>3</td>\n",
              "    </tr>\n",
              "  </tbody>\n",
              "</table>\n",
              "</div>\n",
              "      <button class=\"colab-df-convert\" onclick=\"convertToInteractive('df-e98e5a84-575e-4e69-85dc-a68fedaa27dc')\"\n",
              "              title=\"Convert this dataframe to an interactive table.\"\n",
              "              style=\"display:none;\">\n",
              "        \n",
              "  <svg xmlns=\"http://www.w3.org/2000/svg\" height=\"24px\"viewBox=\"0 0 24 24\"\n",
              "       width=\"24px\">\n",
              "    <path d=\"M0 0h24v24H0V0z\" fill=\"none\"/>\n",
              "    <path d=\"M18.56 5.44l.94 2.06.94-2.06 2.06-.94-2.06-.94-.94-2.06-.94 2.06-2.06.94zm-11 1L8.5 8.5l.94-2.06 2.06-.94-2.06-.94L8.5 2.5l-.94 2.06-2.06.94zm10 10l.94 2.06.94-2.06 2.06-.94-2.06-.94-.94-2.06-.94 2.06-2.06.94z\"/><path d=\"M17.41 7.96l-1.37-1.37c-.4-.4-.92-.59-1.43-.59-.52 0-1.04.2-1.43.59L10.3 9.45l-7.72 7.72c-.78.78-.78 2.05 0 2.83L4 21.41c.39.39.9.59 1.41.59.51 0 1.02-.2 1.41-.59l7.78-7.78 2.81-2.81c.8-.78.8-2.07 0-2.86zM5.41 20L4 18.59l7.72-7.72 1.47 1.35L5.41 20z\"/>\n",
              "  </svg>\n",
              "      </button>\n",
              "      \n",
              "  <style>\n",
              "    .colab-df-container {\n",
              "      display:flex;\n",
              "      flex-wrap:wrap;\n",
              "      gap: 12px;\n",
              "    }\n",
              "\n",
              "    .colab-df-convert {\n",
              "      background-color: #E8F0FE;\n",
              "      border: none;\n",
              "      border-radius: 50%;\n",
              "      cursor: pointer;\n",
              "      display: none;\n",
              "      fill: #1967D2;\n",
              "      height: 32px;\n",
              "      padding: 0 0 0 0;\n",
              "      width: 32px;\n",
              "    }\n",
              "\n",
              "    .colab-df-convert:hover {\n",
              "      background-color: #E2EBFA;\n",
              "      box-shadow: 0px 1px 2px rgba(60, 64, 67, 0.3), 0px 1px 3px 1px rgba(60, 64, 67, 0.15);\n",
              "      fill: #174EA6;\n",
              "    }\n",
              "\n",
              "    [theme=dark] .colab-df-convert {\n",
              "      background-color: #3B4455;\n",
              "      fill: #D2E3FC;\n",
              "    }\n",
              "\n",
              "    [theme=dark] .colab-df-convert:hover {\n",
              "      background-color: #434B5C;\n",
              "      box-shadow: 0px 1px 3px 1px rgba(0, 0, 0, 0.15);\n",
              "      filter: drop-shadow(0px 1px 2px rgba(0, 0, 0, 0.3));\n",
              "      fill: #FFFFFF;\n",
              "    }\n",
              "  </style>\n",
              "\n",
              "      <script>\n",
              "        const buttonEl =\n",
              "          document.querySelector('#df-e98e5a84-575e-4e69-85dc-a68fedaa27dc button.colab-df-convert');\n",
              "        buttonEl.style.display =\n",
              "          google.colab.kernel.accessAllowed ? 'block' : 'none';\n",
              "\n",
              "        async function convertToInteractive(key) {\n",
              "          const element = document.querySelector('#df-e98e5a84-575e-4e69-85dc-a68fedaa27dc');\n",
              "          const dataTable =\n",
              "            await google.colab.kernel.invokeFunction('convertToInteractive',\n",
              "                                                     [key], {});\n",
              "          if (!dataTable) return;\n",
              "\n",
              "          const docLinkHtml = 'Like what you see? Visit the ' +\n",
              "            '<a target=\"_blank\" href=https://colab.research.google.com/notebooks/data_table.ipynb>data table notebook</a>'\n",
              "            + ' to learn more about interactive tables.';\n",
              "          element.innerHTML = '';\n",
              "          dataTable['output_type'] = 'display_data';\n",
              "          await google.colab.output.renderOutput(dataTable, element);\n",
              "          const docLink = document.createElement('div');\n",
              "          docLink.innerHTML = docLinkHtml;\n",
              "          element.appendChild(docLink);\n",
              "        }\n",
              "      </script>\n",
              "    </div>\n",
              "  </div>\n",
              "  "
            ]
          },
          "metadata": {},
          "execution_count": 21
        }
      ]
    },
    {
      "cell_type": "code",
      "source": [
        "plt.scatter(data_pca[:,0], data_pca[:,1], c=clusters)"
      ],
      "metadata": {
        "colab": {
          "base_uri": "https://localhost:8080/",
          "height": 283
        },
        "id": "4sA2f2Ovkmmj",
        "outputId": "18e8f0b0-f69f-48cd-d82d-19f51f345c8d"
      },
      "execution_count": 27,
      "outputs": [
        {
          "output_type": "execute_result",
          "data": {
            "text/plain": [
              "<matplotlib.collections.PathCollection at 0x7f365ad5cdc0>"
            ]
          },
          "metadata": {},
          "execution_count": 27
        },
        {
          "output_type": "display_data",
          "data": {
            "text/plain": [
              "<Figure size 432x288 with 1 Axes>"
            ],
            "image/png": "[encoded data removed]"
          },
          "metadata": {
            "needs_background": "light"
          }
        }
      ]
    },
    {
      "cell_type": "code",
      "source": [
        "plt.legend(*plt.scatter(data_pca[:,0], data_pca[:,1], c=data[\"CDRGLOB\"]).legend_elements(), title='clusters')"
      ],
      "metadata": {
        "colab": {
          "base_uri": "https://localhost:8080/",
          "height": 283
        },
        "id": "nxjtBCLQk7-y",
        "outputId": "a96765fc-ab54-4b89-e56b-df71dc34fbbe"
      },
      "execution_count": 37,
      "outputs": [
        {
          "output_type": "execute_result",
          "data": {
            "text/plain": [
              "<matplotlib.legend.Legend at 0x7f3659117580>"
            ]
          },
          "metadata": {},
          "execution_count": 37
        },
        {
          "output_type": "display_data",
          "data": {
            "text/plain": [
              "<Figure size 432x288 with 1 Axes>"
            ],
            "image/png": "[encoded data removed]"
          },
          "metadata": {
            "needs_background": "light"
          }
        }
      ]
    },
    {
      "cell_type": "code",
      "source": [],
      "metadata": {
        "id": "RrxSR7V_lg_I"
      },
      "execution_count": null,
      "outputs": []
    },
    {
      "cell_type": "markdown",
      "source": [
        "TASK-12: Instead of tSNE, please use (A) PCA, (B) LLE, (C) Isomap algorithms to provide a comparison among different approaches as we did for tSNE (finding the ideal number of clusters (silhouettee score, pivot tables, and scatter plots). As a final note, please use just the veery ffirst 2 components while using these algorithms. "
      ],
      "metadata": {
        "id": "iwzFzRhklhyc"
      }
    }
  ]
}