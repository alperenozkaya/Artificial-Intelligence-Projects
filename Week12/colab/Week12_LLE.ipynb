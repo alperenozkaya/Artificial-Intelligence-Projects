{
  "nbformat": 4,
  "nbformat_minor": 0,
  "metadata": {
    "colab": {
      "provenance": []
    },
    "kernelspec": {
      "name": "python3",
      "display_name": "Python 3"
    },
    "language_info": {
      "name": "python"
    }
  },
  "cells": [
    {
      "cell_type": "code",
      "execution_count": 2,
      "metadata": {
        "colab": {
          "base_uri": "https://localhost:8080/",
          "height": 299
        },
        "id": "bYF7GXomc5v_",
        "outputId": "0ab708b2-4ab7-4222-c7d8-4f6b3f0b0127"
      },
      "outputs": [
        {
          "output_type": "execute_result",
          "data": {
            "text/plain": [
              "   SEX  EDUC  INDEPEND  CDRGLOB  NPISCORE  NACCGDS  FAQ  NACCMMSE  NACCAGEB  \\\n",
              "0    1    99         1        1        12        4    2        23        73   \n",
              "1    1    99         1        1         0        0    1        29        74   \n",
              "2    1    99         1        2         3        0   25        22        73   \n",
              "3    1    99         4        3         4        0   30        18        73   \n",
              "4    0    25         1        0         0        1    0        30        71   \n",
              "\n",
              "   NACCAPOE  ...     RCUNM      RENT     RENTM  RINFTEMM  Hippovol_Occort  \\\n",
              "0         1  ...  0.001041  0.003513  0.004086  0.002526         0.126450   \n",
              "1         1  ...  0.001654  0.003704  0.004827  0.002564         0.086455   \n",
              "2         1  ...  0.000811  0.004033  0.003522  0.002136         0.104945   \n",
              "3         1  ...  0.000752  0.003076  0.002382  0.001659         0.103015   \n",
              "4         1  ...  0.001264  0.003974  0.003697  0.002493         0.103726   \n",
              "\n",
              "   Hippo_fr  Hippo_par  Temp_occort  Temp_par   Temp_fr  \n",
              "0  0.042046   0.075462     2.144147  1.279577  0.712947  \n",
              "1  0.037737   0.064686     1.615824  1.208971  0.705289  \n",
              "2  0.035688   0.064903     2.288053  1.415045  0.778073  \n",
              "3  0.035785   0.064656     2.228278  1.398555  0.774040  \n",
              "4  0.033687   0.062293     2.064083  1.239595  0.670345  \n",
              "\n",
              "[5 rows x 34 columns]"
            ],
            "text/html": [
              "\n",
              "  <div id=\"df-15acbcb6-4263-45b6-ae75-a36d09166cd9\">\n",
              "    <div class=\"colab-df-container\">\n",
              "      <div>\n",
              "<style scoped>\n",
              "    .dataframe tbody tr th:only-of-type {\n",
              "        vertical-align: middle;\n",
              "    }\n",
              "\n",
              "    .dataframe tbody tr th {\n",
              "        vertical-align: top;\n",
              "    }\n",
              "\n",
              "    .dataframe thead th {\n",
              "        text-align: right;\n",
              "    }\n",
              "</style>\n",
              "<table border=\"1\" class=\"dataframe\">\n",
              "  <thead>\n",
              "    <tr style=\"text-align: right;\">\n",
              "      <th></th>\n",
              "      <th>SEX</th>\n",
              "      <th>EDUC</th>\n",
              "      <th>INDEPEND</th>\n",
              "      <th>CDRGLOB</th>\n",
              "      <th>NPISCORE</th>\n",
              "      <th>NACCGDS</th>\n",
              "      <th>FAQ</th>\n",
              "      <th>NACCMMSE</th>\n",
              "      <th>NACCAGEB</th>\n",
              "      <th>NACCAPOE</th>\n",
              "      <th>...</th>\n",
              "      <th>RCUNM</th>\n",
              "      <th>RENT</th>\n",
              "      <th>RENTM</th>\n",
              "      <th>RINFTEMM</th>\n",
              "      <th>Hippovol_Occort</th>\n",
              "      <th>Hippo_fr</th>\n",
              "      <th>Hippo_par</th>\n",
              "      <th>Temp_occort</th>\n",
              "      <th>Temp_par</th>\n",
              "      <th>Temp_fr</th>\n",
              "    </tr>\n",
              "  </thead>\n",
              "  <tbody>\n",
              "    <tr>\n",
              "      <th>0</th>\n",
              "      <td>1</td>\n",
              "      <td>99</td>\n",
              "      <td>1</td>\n",
              "      <td>1</td>\n",
              "      <td>12</td>\n",
              "      <td>4</td>\n",
              "      <td>2</td>\n",
              "      <td>23</td>\n",
              "      <td>73</td>\n",
              "      <td>1</td>\n",
              "      <td>...</td>\n",
              "      <td>0.001041</td>\n",
              "      <td>0.003513</td>\n",
              "      <td>0.004086</td>\n",
              "      <td>0.002526</td>\n",
              "      <td>0.126450</td>\n",
              "      <td>0.042046</td>\n",
              "      <td>0.075462</td>\n",
              "      <td>2.144147</td>\n",
              "      <td>1.279577</td>\n",
              "      <td>0.712947</td>\n",
              "    </tr>\n",
              "    <tr>\n",
              "      <th>1</th>\n",
              "      <td>1</td>\n",
              "      <td>99</td>\n",
              "      <td>1</td>\n",
              "      <td>1</td>\n",
              "      <td>0</td>\n",
              "      <td>0</td>\n",
              "      <td>1</td>\n",
              "      <td>29</td>\n",
              "      <td>74</td>\n",
              "      <td>1</td>\n",
              "      <td>...</td>\n",
              "      <td>0.001654</td>\n",
              "      <td>0.003704</td>\n",
              "      <td>0.004827</td>\n",
              "      <td>0.002564</td>\n",
              "      <td>0.086455</td>\n",
              "      <td>0.037737</td>\n",
              "      <td>0.064686</td>\n",
              "      <td>1.615824</td>\n",
              "      <td>1.208971</td>\n",
              "      <td>0.705289</td>\n",
              "    </tr>\n",
              "    <tr>\n",
              "      <th>2</th>\n",
              "      <td>1</td>\n",
              "      <td>99</td>\n",
              "      <td>1</td>\n",
              "      <td>2</td>\n",
              "      <td>3</td>\n",
              "      <td>0</td>\n",
              "      <td>25</td>\n",
              "      <td>22</td>\n",
              "      <td>73</td>\n",
              "      <td>1</td>\n",
              "      <td>...</td>\n",
              "      <td>0.000811</td>\n",
              "      <td>0.004033</td>\n",
              "      <td>0.003522</td>\n",
              "      <td>0.002136</td>\n",
              "      <td>0.104945</td>\n",
              "      <td>0.035688</td>\n",
              "      <td>0.064903</td>\n",
              "      <td>2.288053</td>\n",
              "      <td>1.415045</td>\n",
              "      <td>0.778073</td>\n",
              "    </tr>\n",
              "    <tr>\n",
              "      <th>3</th>\n",
              "      <td>1</td>\n",
              "      <td>99</td>\n",
              "      <td>4</td>\n",
              "      <td>3</td>\n",
              "      <td>4</td>\n",
              "      <td>0</td>\n",
              "      <td>30</td>\n",
              "      <td>18</td>\n",
              "      <td>73</td>\n",
              "      <td>1</td>\n",
              "      <td>...</td>\n",
              "      <td>0.000752</td>\n",
              "      <td>0.003076</td>\n",
              "      <td>0.002382</td>\n",
              "      <td>0.001659</td>\n",
              "      <td>0.103015</td>\n",
              "      <td>0.035785</td>\n",
              "      <td>0.064656</td>\n",
              "      <td>2.228278</td>\n",
              "      <td>1.398555</td>\n",
              "      <td>0.774040</td>\n",
              "    </tr>\n",
              "    <tr>\n",
              "      <th>4</th>\n",
              "      <td>0</td>\n",
              "      <td>25</td>\n",
              "      <td>1</td>\n",
              "      <td>0</td>\n",
              "      <td>0</td>\n",
              "      <td>1</td>\n",
              "      <td>0</td>\n",
              "      <td>30</td>\n",
              "      <td>71</td>\n",
              "      <td>1</td>\n",
              "      <td>...</td>\n",
              "      <td>0.001264</td>\n",
              "      <td>0.003974</td>\n",
              "      <td>0.003697</td>\n",
              "      <td>0.002493</td>\n",
              "      <td>0.103726</td>\n",
              "      <td>0.033687</td>\n",
              "      <td>0.062293</td>\n",
              "      <td>2.064083</td>\n",
              "      <td>1.239595</td>\n",
              "      <td>0.670345</td>\n",
              "    </tr>\n",
              "  </tbody>\n",
              "</table>\n",
              "<p>5 rows × 34 columns</p>\n",
              "</div>\n",
              "      <button class=\"colab-df-convert\" onclick=\"convertToInteractive('df-15acbcb6-4263-45b6-ae75-a36d09166cd9')\"\n",
              "              title=\"Convert this dataframe to an interactive table.\"\n",
              "              style=\"display:none;\">\n",
              "        \n",
              "  <svg xmlns=\"http://www.w3.org/2000/svg\" height=\"24px\"viewBox=\"0 0 24 24\"\n",
              "       width=\"24px\">\n",
              "    <path d=\"M0 0h24v24H0V0z\" fill=\"none\"/>\n",
              "    <path d=\"M18.56 5.44l.94 2.06.94-2.06 2.06-.94-2.06-.94-.94-2.06-.94 2.06-2.06.94zm-11 1L8.5 8.5l.94-2.06 2.06-.94-2.06-.94L8.5 2.5l-.94 2.06-2.06.94zm10 10l.94 2.06.94-2.06 2.06-.94-2.06-.94-.94-2.06-.94 2.06-2.06.94z\"/><path d=\"M17.41 7.96l-1.37-1.37c-.4-.4-.92-.59-1.43-.59-.52 0-1.04.2-1.43.59L10.3 9.45l-7.72 7.72c-.78.78-.78 2.05 0 2.83L4 21.41c.39.39.9.59 1.41.59.51 0 1.02-.2 1.41-.59l7.78-7.78 2.81-2.81c.8-.78.8-2.07 0-2.86zM5.41 20L4 18.59l7.72-7.72 1.47 1.35L5.41 20z\"/>\n",
              "  </svg>\n",
              "      </button>\n",
              "      \n",
              "  <style>\n",
              "    .colab-df-container {\n",
              "      display:flex;\n",
              "      flex-wrap:wrap;\n",
              "      gap: 12px;\n",
              "    }\n",
              "\n",
              "    .colab-df-convert {\n",
              "      background-color: #E8F0FE;\n",
              "      border: none;\n",
              "      border-radius: 50%;\n",
              "      cursor: pointer;\n",
              "      display: none;\n",
              "      fill: #1967D2;\n",
              "      height: 32px;\n",
              "      padding: 0 0 0 0;\n",
              "      width: 32px;\n",
              "    }\n",
              "\n",
              "    .colab-df-convert:hover {\n",
              "      background-color: #E2EBFA;\n",
              "      box-shadow: 0px 1px 2px rgba(60, 64, 67, 0.3), 0px 1px 3px 1px rgba(60, 64, 67, 0.15);\n",
              "      fill: #174EA6;\n",
              "    }\n",
              "\n",
              "    [theme=dark] .colab-df-convert {\n",
              "      background-color: #3B4455;\n",
              "      fill: #D2E3FC;\n",
              "    }\n",
              "\n",
              "    [theme=dark] .colab-df-convert:hover {\n",
              "      background-color: #434B5C;\n",
              "      box-shadow: 0px 1px 3px 1px rgba(0, 0, 0, 0.15);\n",
              "      filter: drop-shadow(0px 1px 2px rgba(0, 0, 0, 0.3));\n",
              "      fill: #FFFFFF;\n",
              "    }\n",
              "  </style>\n",
              "\n",
              "      <script>\n",
              "        const buttonEl =\n",
              "          document.querySelector('#df-15acbcb6-4263-45b6-ae75-a36d09166cd9 button.colab-df-convert');\n",
              "        buttonEl.style.display =\n",
              "          google.colab.kernel.accessAllowed ? 'block' : 'none';\n",
              "\n",
              "        async function convertToInteractive(key) {\n",
              "          const element = document.querySelector('#df-15acbcb6-4263-45b6-ae75-a36d09166cd9');\n",
              "          const dataTable =\n",
              "            await google.colab.kernel.invokeFunction('convertToInteractive',\n",
              "                                                     [key], {});\n",
              "          if (!dataTable) return;\n",
              "\n",
              "          const docLinkHtml = 'Like what you see? Visit the ' +\n",
              "            '<a target=\"_blank\" href=https://colab.research.google.com/notebooks/data_table.ipynb>data table notebook</a>'\n",
              "            + ' to learn more about interactive tables.';\n",
              "          element.innerHTML = '';\n",
              "          dataTable['output_type'] = 'display_data';\n",
              "          await google.colab.output.renderOutput(dataTable, element);\n",
              "          const docLink = document.createElement('div');\n",
              "          docLink.innerHTML = docLinkHtml;\n",
              "          element.appendChild(docLink);\n",
              "        }\n",
              "      </script>\n",
              "    </div>\n",
              "  </div>\n",
              "  "
            ]
          },
          "metadata": {},
          "execution_count": 2
        }
      ],
      "source": [
        "import pandas as pd\n",
        "data = pd.read_excel(\"data.xlsx\")\n",
        "data.head()"
      ]
    },
    {
      "cell_type": "code",
      "source": [
        "MR_data = data.iloc[:,10:]"
      ],
      "metadata": {
        "id": "eDNQWVbGdcA5"
      },
      "execution_count": 3,
      "outputs": []
    },
    {
      "cell_type": "code",
      "source": [
        "MR_data.head()"
      ],
      "metadata": {
        "colab": {
          "base_uri": "https://localhost:8080/",
          "height": 299
        },
        "id": "I9fbnp8OdxGB",
        "outputId": "e971858e-228c-41b5-d224-07da856397b1"
      },
      "execution_count": 4,
      "outputs": [
        {
          "output_type": "execute_result",
          "data": {
            "text/plain": [
              "     CSFVOL   GRAYVOL    WMHVOL  HIPPOVOL  CERETISS   LATVENT    FRCORT  \\\n",
              "0  0.292152  0.531248  0.004900  0.006389  0.871991  0.019802  0.151948   \n",
              "1  0.368581  0.597176  0.004121  0.006376  0.876882  0.027894  0.168972   \n",
              "2  0.346972  0.591807  0.008354  0.005591  0.856409  0.093293  0.156661   \n",
              "3  0.439212  0.551721  0.010212  0.005143  0.854985  0.105919  0.143722   \n",
              "4  0.336681  0.597124  0.003368  0.006026  0.869324  0.022648  0.178872   \n",
              "\n",
              "    OCCCORT   PARCORT   TEMPCOR  ...     RCUNM      RENT     RENTM  RINFTEMM  \\\n",
              "0  0.050524  0.084661  0.108331  ...  0.001041  0.003513  0.004086  0.002526   \n",
              "1  0.073754  0.098575  0.119174  ...  0.001654  0.003704  0.004827  0.002564   \n",
              "2  0.053274  0.086141  0.121894  ...  0.000811  0.004033  0.003522  0.002136   \n",
              "3  0.049925  0.079544  0.111246  ...  0.000752  0.003076  0.002382  0.001659   \n",
              "4  0.058092  0.096730  0.119906  ...  0.001264  0.003974  0.003697  0.002493   \n",
              "\n",
              "   Hippovol_Occort  Hippo_fr  Hippo_par  Temp_occort  Temp_par   Temp_fr  \n",
              "0         0.126450  0.042046   0.075462     2.144147  1.279577  0.712947  \n",
              "1         0.086455  0.037737   0.064686     1.615824  1.208971  0.705289  \n",
              "2         0.104945  0.035688   0.064903     2.288053  1.415045  0.778073  \n",
              "3         0.103015  0.035785   0.064656     2.228278  1.398555  0.774040  \n",
              "4         0.103726  0.033687   0.062293     2.064083  1.239595  0.670345  \n",
              "\n",
              "[5 rows x 24 columns]"
            ],
            "text/html": [
              "\n",
              "  <div id=\"df-2fac0577-671a-496a-96fa-a1a7314358db\">\n",
              "    <div class=\"colab-df-container\">\n",
              "      <div>\n",
              "<style scoped>\n",
              "    .dataframe tbody tr th:only-of-type {\n",
              "        vertical-align: middle;\n",
              "    }\n",
              "\n",
              "    .dataframe tbody tr th {\n",
              "        vertical-align: top;\n",
              "    }\n",
              "\n",
              "    .dataframe thead th {\n",
              "        text-align: right;\n",
              "    }\n",
              "</style>\n",
              "<table border=\"1\" class=\"dataframe\">\n",
              "  <thead>\n",
              "    <tr style=\"text-align: right;\">\n",
              "      <th></th>\n",
              "      <th>CSFVOL</th>\n",
              "      <th>GRAYVOL</th>\n",
              "      <th>WMHVOL</th>\n",
              "      <th>HIPPOVOL</th>\n",
              "      <th>CERETISS</th>\n",
              "      <th>LATVENT</th>\n",
              "      <th>FRCORT</th>\n",
              "      <th>OCCCORT</th>\n",
              "      <th>PARCORT</th>\n",
              "      <th>TEMPCOR</th>\n",
              "      <th>...</th>\n",
              "      <th>RCUNM</th>\n",
              "      <th>RENT</th>\n",
              "      <th>RENTM</th>\n",
              "      <th>RINFTEMM</th>\n",
              "      <th>Hippovol_Occort</th>\n",
              "      <th>Hippo_fr</th>\n",
              "      <th>Hippo_par</th>\n",
              "      <th>Temp_occort</th>\n",
              "      <th>Temp_par</th>\n",
              "      <th>Temp_fr</th>\n",
              "    </tr>\n",
              "  </thead>\n",
              "  <tbody>\n",
              "    <tr>\n",
              "      <th>0</th>\n",
              "      <td>0.292152</td>\n",
              "      <td>0.531248</td>\n",
              "      <td>0.004900</td>\n",
              "      <td>0.006389</td>\n",
              "      <td>0.871991</td>\n",
              "      <td>0.019802</td>\n",
              "      <td>0.151948</td>\n",
              "      <td>0.050524</td>\n",
              "      <td>0.084661</td>\n",
              "      <td>0.108331</td>\n",
              "      <td>...</td>\n",
              "      <td>0.001041</td>\n",
              "      <td>0.003513</td>\n",
              "      <td>0.004086</td>\n",
              "      <td>0.002526</td>\n",
              "      <td>0.126450</td>\n",
              "      <td>0.042046</td>\n",
              "      <td>0.075462</td>\n",
              "      <td>2.144147</td>\n",
              "      <td>1.279577</td>\n",
              "      <td>0.712947</td>\n",
              "    </tr>\n",
              "    <tr>\n",
              "      <th>1</th>\n",
              "      <td>0.368581</td>\n",
              "      <td>0.597176</td>\n",
              "      <td>0.004121</td>\n",
              "      <td>0.006376</td>\n",
              "      <td>0.876882</td>\n",
              "      <td>0.027894</td>\n",
              "      <td>0.168972</td>\n",
              "      <td>0.073754</td>\n",
              "      <td>0.098575</td>\n",
              "      <td>0.119174</td>\n",
              "      <td>...</td>\n",
              "      <td>0.001654</td>\n",
              "      <td>0.003704</td>\n",
              "      <td>0.004827</td>\n",
              "      <td>0.002564</td>\n",
              "      <td>0.086455</td>\n",
              "      <td>0.037737</td>\n",
              "      <td>0.064686</td>\n",
              "      <td>1.615824</td>\n",
              "      <td>1.208971</td>\n",
              "      <td>0.705289</td>\n",
              "    </tr>\n",
              "    <tr>\n",
              "      <th>2</th>\n",
              "      <td>0.346972</td>\n",
              "      <td>0.591807</td>\n",
              "      <td>0.008354</td>\n",
              "      <td>0.005591</td>\n",
              "      <td>0.856409</td>\n",
              "      <td>0.093293</td>\n",
              "      <td>0.156661</td>\n",
              "      <td>0.053274</td>\n",
              "      <td>0.086141</td>\n",
              "      <td>0.121894</td>\n",
              "      <td>...</td>\n",
              "      <td>0.000811</td>\n",
              "      <td>0.004033</td>\n",
              "      <td>0.003522</td>\n",
              "      <td>0.002136</td>\n",
              "      <td>0.104945</td>\n",
              "      <td>0.035688</td>\n",
              "      <td>0.064903</td>\n",
              "      <td>2.288053</td>\n",
              "      <td>1.415045</td>\n",
              "      <td>0.778073</td>\n",
              "    </tr>\n",
              "    <tr>\n",
              "      <th>3</th>\n",
              "      <td>0.439212</td>\n",
              "      <td>0.551721</td>\n",
              "      <td>0.010212</td>\n",
              "      <td>0.005143</td>\n",
              "      <td>0.854985</td>\n",
              "      <td>0.105919</td>\n",
              "      <td>0.143722</td>\n",
              "      <td>0.049925</td>\n",
              "      <td>0.079544</td>\n",
              "      <td>0.111246</td>\n",
              "      <td>...</td>\n",
              "      <td>0.000752</td>\n",
              "      <td>0.003076</td>\n",
              "      <td>0.002382</td>\n",
              "      <td>0.001659</td>\n",
              "      <td>0.103015</td>\n",
              "      <td>0.035785</td>\n",
              "      <td>0.064656</td>\n",
              "      <td>2.228278</td>\n",
              "      <td>1.398555</td>\n",
              "      <td>0.774040</td>\n",
              "    </tr>\n",
              "    <tr>\n",
              "      <th>4</th>\n",
              "      <td>0.336681</td>\n",
              "      <td>0.597124</td>\n",
              "      <td>0.003368</td>\n",
              "      <td>0.006026</td>\n",
              "      <td>0.869324</td>\n",
              "      <td>0.022648</td>\n",
              "      <td>0.178872</td>\n",
              "      <td>0.058092</td>\n",
              "      <td>0.096730</td>\n",
              "      <td>0.119906</td>\n",
              "      <td>...</td>\n",
              "      <td>0.001264</td>\n",
              "      <td>0.003974</td>\n",
              "      <td>0.003697</td>\n",
              "      <td>0.002493</td>\n",
              "      <td>0.103726</td>\n",
              "      <td>0.033687</td>\n",
              "      <td>0.062293</td>\n",
              "      <td>2.064083</td>\n",
              "      <td>1.239595</td>\n",
              "      <td>0.670345</td>\n",
              "    </tr>\n",
              "  </tbody>\n",
              "</table>\n",
              "<p>5 rows × 24 columns</p>\n",
              "</div>\n",
              "      <button class=\"colab-df-convert\" onclick=\"convertToInteractive('df-2fac0577-671a-496a-96fa-a1a7314358db')\"\n",
              "              title=\"Convert this dataframe to an interactive table.\"\n",
              "              style=\"display:none;\">\n",
              "        \n",
              "  <svg xmlns=\"http://www.w3.org/2000/svg\" height=\"24px\"viewBox=\"0 0 24 24\"\n",
              "       width=\"24px\">\n",
              "    <path d=\"M0 0h24v24H0V0z\" fill=\"none\"/>\n",
              "    <path d=\"M18.56 5.44l.94 2.06.94-2.06 2.06-.94-2.06-.94-.94-2.06-.94 2.06-2.06.94zm-11 1L8.5 8.5l.94-2.06 2.06-.94-2.06-.94L8.5 2.5l-.94 2.06-2.06.94zm10 10l.94 2.06.94-2.06 2.06-.94-2.06-.94-.94-2.06-.94 2.06-2.06.94z\"/><path d=\"M17.41 7.96l-1.37-1.37c-.4-.4-.92-.59-1.43-.59-.52 0-1.04.2-1.43.59L10.3 9.45l-7.72 7.72c-.78.78-.78 2.05 0 2.83L4 21.41c.39.39.9.59 1.41.59.51 0 1.02-.2 1.41-.59l7.78-7.78 2.81-2.81c.8-.78.8-2.07 0-2.86zM5.41 20L4 18.59l7.72-7.72 1.47 1.35L5.41 20z\"/>\n",
              "  </svg>\n",
              "      </button>\n",
              "      \n",
              "  <style>\n",
              "    .colab-df-container {\n",
              "      display:flex;\n",
              "      flex-wrap:wrap;\n",
              "      gap: 12px;\n",
              "    }\n",
              "\n",
              "    .colab-df-convert {\n",
              "      background-color: #E8F0FE;\n",
              "      border: none;\n",
              "      border-radius: 50%;\n",
              "      cursor: pointer;\n",
              "      display: none;\n",
              "      fill: #1967D2;\n",
              "      height: 32px;\n",
              "      padding: 0 0 0 0;\n",
              "      width: 32px;\n",
              "    }\n",
              "\n",
              "    .colab-df-convert:hover {\n",
              "      background-color: #E2EBFA;\n",
              "      box-shadow: 0px 1px 2px rgba(60, 64, 67, 0.3), 0px 1px 3px 1px rgba(60, 64, 67, 0.15);\n",
              "      fill: #174EA6;\n",
              "    }\n",
              "\n",
              "    [theme=dark] .colab-df-convert {\n",
              "      background-color: #3B4455;\n",
              "      fill: #D2E3FC;\n",
              "    }\n",
              "\n",
              "    [theme=dark] .colab-df-convert:hover {\n",
              "      background-color: #434B5C;\n",
              "      box-shadow: 0px 1px 3px 1px rgba(0, 0, 0, 0.15);\n",
              "      filter: drop-shadow(0px 1px 2px rgba(0, 0, 0, 0.3));\n",
              "      fill: #FFFFFF;\n",
              "    }\n",
              "  </style>\n",
              "\n",
              "      <script>\n",
              "        const buttonEl =\n",
              "          document.querySelector('#df-2fac0577-671a-496a-96fa-a1a7314358db button.colab-df-convert');\n",
              "        buttonEl.style.display =\n",
              "          google.colab.kernel.accessAllowed ? 'block' : 'none';\n",
              "\n",
              "        async function convertToInteractive(key) {\n",
              "          const element = document.querySelector('#df-2fac0577-671a-496a-96fa-a1a7314358db');\n",
              "          const dataTable =\n",
              "            await google.colab.kernel.invokeFunction('convertToInteractive',\n",
              "                                                     [key], {});\n",
              "          if (!dataTable) return;\n",
              "\n",
              "          const docLinkHtml = 'Like what you see? Visit the ' +\n",
              "            '<a target=\"_blank\" href=https://colab.research.google.com/notebooks/data_table.ipynb>data table notebook</a>'\n",
              "            + ' to learn more about interactive tables.';\n",
              "          element.innerHTML = '';\n",
              "          dataTable['output_type'] = 'display_data';\n",
              "          await google.colab.output.renderOutput(dataTable, element);\n",
              "          const docLink = document.createElement('div');\n",
              "          docLink.innerHTML = docLinkHtml;\n",
              "          element.appendChild(docLink);\n",
              "        }\n",
              "      </script>\n",
              "    </div>\n",
              "  </div>\n",
              "  "
            ]
          },
          "metadata": {},
          "execution_count": 4
        }
      ]
    },
    {
      "cell_type": "code",
      "source": [
        "from sklearn.preprocessing import MinMaxScaler\n",
        "scaler = MinMaxScaler()\n",
        "MR_scaled = scaler.fit_transform(MR_data)\n",
        "MR_scaled"
      ],
      "metadata": {
        "colab": {
          "base_uri": "https://localhost:8080/"
        },
        "id": "m-Z_K_Rnd5UI",
        "outputId": "e4b32f7f-8dc5-4e54-8d2f-e4ba46525324"
      },
      "execution_count": 5,
      "outputs": [
        {
          "output_type": "execute_result",
          "data": {
            "text/plain": [
              "array([[0.27429336, 0.31495106, 0.02594904, ..., 0.7822485 , 0.7340178 ,\n",
              "        0.66667735],\n",
              "       [0.5137701 , 0.58624189, 0.0218258 , ..., 0.58950048, 0.69351511,\n",
              "        0.65951616],\n",
              "       [0.44606307, 0.56414902, 0.0442461 , ..., 0.83474968, 0.8117274 ,\n",
              "        0.72757697],\n",
              "       ...,\n",
              "       [0.69148082, 0.44257101, 0.01524551, ..., 0.71184192, 0.78070268,\n",
              "        0.66819917],\n",
              "       [0.63737968, 0.62709001, 0.17205586, ..., 0.63281583, 0.63382155,\n",
              "        0.66857352],\n",
              "       [0.51103198, 0.55599344, 0.20048655, ..., 0.91835355, 0.72824683,\n",
              "        0.65967944]])"
            ]
          },
          "metadata": {},
          "execution_count": 5
        }
      ]
    },
    {
      "cell_type": "code",
      "source": [
        "from sklearn.metrics import silhouette_samples, silhouette_score\n",
        "from sklearn.cluster import KMeans\n",
        "import matplotlib.pyplot as plt\n",
        "import matplotlib.cm as cm\n",
        "import numpy as np"
      ],
      "metadata": {
        "id": "-WgpBCDhf1h9"
      },
      "execution_count": 6,
      "outputs": []
    },
    {
      "cell_type": "code",
      "source": [
        "kmeans = KMeans(n_clusters=10, random_state=0)\n",
        "clusters = kmeans.fit_predict(MR_scaled)"
      ],
      "metadata": {
        "id": "8iszuW1hfTaS"
      },
      "execution_count": 7,
      "outputs": []
    },
    {
      "cell_type": "code",
      "source": [
        "clusters"
      ],
      "metadata": {
        "colab": {
          "base_uri": "https://localhost:8080/"
        },
        "id": "6VOpTm5EfpXB",
        "outputId": "70b58b5e-7e6d-4648-a40d-de0402722e00"
      },
      "execution_count": null,
      "outputs": [
        {
          "output_type": "execute_result",
          "data": {
            "text/plain": [
              "array([5, 8, 2, ..., 2, 6, 9], dtype=int32)"
            ]
          },
          "metadata": {},
          "execution_count": 8
        }
      ]
    },
    {
      "cell_type": "code",
      "source": [
        "list_SS = []\n",
        "for i in range (2,10):    \n",
        "  clusterer = KMeans(n_clusters=i, random_state=10)\n",
        "  cluster_labels = clusterer.fit_predict(MR_scaled)\n",
        "  silhouette_avg = silhouette_score(MR_scaled, cluster_labels)\n",
        "  list_SS.append(silhouette_avg)\n",
        "list_SS"
      ],
      "metadata": {
        "colab": {
          "base_uri": "https://localhost:8080/"
        },
        "id": "vg-M_2vogF27",
        "outputId": "0bc83716-ea09-4c57-85cc-e09529b236d0"
      },
      "execution_count": 8,
      "outputs": [
        {
          "output_type": "execute_result",
          "data": {
            "text/plain": [
              "[0.14456717924041876,\n",
              " 0.1337333435147112,\n",
              " 0.10798295630463906,\n",
              " 0.11458258621149457,\n",
              " 0.0996597201283208,\n",
              " 0.09953500143167839,\n",
              " 0.09568718480177212,\n",
              " 0.09171442068682371]"
            ]
          },
          "metadata": {},
          "execution_count": 8
        }
      ]
    },
    {
      "cell_type": "code",
      "source": [
        "xx = np.arange(2,10)"
      ],
      "metadata": {
        "id": "b0x0R3HIhHoF"
      },
      "execution_count": 10,
      "outputs": []
    },
    {
      "cell_type": "code",
      "source": [
        "plt.plot(xx,list_SS)"
      ],
      "metadata": {
        "colab": {
          "base_uri": "https://localhost:8080/",
          "height": 283
        },
        "id": "htBYBJbJg8Xo",
        "outputId": "7d198fcb-c964-4eb6-a73c-034b288a30d9"
      },
      "execution_count": 11,
      "outputs": [
        {
          "output_type": "execute_result",
          "data": {
            "text/plain": [
              "[<matplotlib.lines.Line2D at 0x7f202712b730>]"
            ]
          },
          "metadata": {},
          "execution_count": 11
        },
        {
          "output_type": "display_data",
          "data": {
            "text/plain": [
              "<Figure size 432x288 with 1 Axes>"
            ],
            "image/png": "[encoded data removed]"
          },
          "metadata": {
            "needs_background": "light"
          }
        }
      ]
    },
    {
      "cell_type": "code",
      "source": [
        "kmeans = KMeans(n_clusters=5, random_state=0)\n",
        "clusters = kmeans.fit_predict(MR_scaled)\n",
        "clusters"
      ],
      "metadata": {
        "colab": {
          "base_uri": "https://localhost:8080/"
        },
        "id": "GjFbQzY1hX3n",
        "outputId": "204525ca-7e77-44fa-ccc5-176b982913c7"
      },
      "execution_count": 12,
      "outputs": [
        {
          "output_type": "execute_result",
          "data": {
            "text/plain": [
              "array([2, 1, 4, ..., 0, 0, 2], dtype=int32)"
            ]
          },
          "metadata": {},
          "execution_count": 12
        }
      ]
    },
    {
      "cell_type": "code",
      "source": [
        "clusters_pd = pd.DataFrame(clusters)\n",
        "clusters_pd.value_counts()"
      ],
      "metadata": {
        "colab": {
          "base_uri": "https://localhost:8080/"
        },
        "id": "z1QsuSqIhhub",
        "outputId": "97e5c735-17d4-433a-a12a-d44331c30f72"
      },
      "execution_count": 13,
      "outputs": [
        {
          "output_type": "execute_result",
          "data": {
            "text/plain": [
              "3    472\n",
              "1    374\n",
              "4    290\n",
              "0    267\n",
              "2    192\n",
              "dtype: int64"
            ]
          },
          "metadata": {},
          "execution_count": 13
        }
      ]
    },
    {
      "cell_type": "code",
      "source": [],
      "metadata": {
        "id": "GiL8cj2iiAMN"
      },
      "execution_count": 13,
      "outputs": []
    },
    {
      "cell_type": "code",
      "source": [
        "MR_data.pivot_table('CSFVOL', index=clusters, columns=data['CDRGLOB'], aggfunc=\"count\")"
      ],
      "metadata": {
        "colab": {
          "base_uri": "https://localhost:8080/",
          "height": 206
        },
        "id": "yHp4_9Trh1JL",
        "outputId": "5f888a05-582b-4fae-fa1b-6337ecac878c"
      },
      "execution_count": 14,
      "outputs": [
        {
          "output_type": "execute_result",
          "data": {
            "text/plain": [
              "CDRGLOB      0      1     2     3\n",
              "0         66.0   93.0  73.0  35.0\n",
              "1        245.0  116.0  13.0   NaN\n",
              "2        122.0   56.0  12.0   2.0\n",
              "3        395.0   65.0  11.0   1.0\n",
              "4        146.0   85.0  41.0  18.0"
            ],
            "text/html": [
              "\n",
              "  <div id=\"df-5a206356-1039-47ff-8b20-4d2e11d76c0a\">\n",
              "    <div class=\"colab-df-container\">\n",
              "      <div>\n",
              "<style scoped>\n",
              "    .dataframe tbody tr th:only-of-type {\n",
              "        vertical-align: middle;\n",
              "    }\n",
              "\n",
              "    .dataframe tbody tr th {\n",
              "        vertical-align: top;\n",
              "    }\n",
              "\n",
              "    .dataframe thead th {\n",
              "        text-align: right;\n",
              "    }\n",
              "</style>\n",
              "<table border=\"1\" class=\"dataframe\">\n",
              "  <thead>\n",
              "    <tr style=\"text-align: right;\">\n",
              "      <th>CDRGLOB</th>\n",
              "      <th>0</th>\n",
              "      <th>1</th>\n",
              "      <th>2</th>\n",
              "      <th>3</th>\n",
              "    </tr>\n",
              "  </thead>\n",
              "  <tbody>\n",
              "    <tr>\n",
              "      <th>0</th>\n",
              "      <td>66.0</td>\n",
              "      <td>93.0</td>\n",
              "      <td>73.0</td>\n",
              "      <td>35.0</td>\n",
              "    </tr>\n",
              "    <tr>\n",
              "      <th>1</th>\n",
              "      <td>245.0</td>\n",
              "      <td>116.0</td>\n",
              "      <td>13.0</td>\n",
              "      <td>NaN</td>\n",
              "    </tr>\n",
              "    <tr>\n",
              "      <th>2</th>\n",
              "      <td>122.0</td>\n",
              "      <td>56.0</td>\n",
              "      <td>12.0</td>\n",
              "      <td>2.0</td>\n",
              "    </tr>\n",
              "    <tr>\n",
              "      <th>3</th>\n",
              "      <td>395.0</td>\n",
              "      <td>65.0</td>\n",
              "      <td>11.0</td>\n",
              "      <td>1.0</td>\n",
              "    </tr>\n",
              "    <tr>\n",
              "      <th>4</th>\n",
              "      <td>146.0</td>\n",
              "      <td>85.0</td>\n",
              "      <td>41.0</td>\n",
              "      <td>18.0</td>\n",
              "    </tr>\n",
              "  </tbody>\n",
              "</table>\n",
              "</div>\n",
              "      <button class=\"colab-df-convert\" onclick=\"convertToInteractive('df-5a206356-1039-47ff-8b20-4d2e11d76c0a')\"\n",
              "              title=\"Convert this dataframe to an interactive table.\"\n",
              "              style=\"display:none;\">\n",
              "        \n",
              "  <svg xmlns=\"http://www.w3.org/2000/svg\" height=\"24px\"viewBox=\"0 0 24 24\"\n",
              "       width=\"24px\">\n",
              "    <path d=\"M0 0h24v24H0V0z\" fill=\"none\"/>\n",
              "    <path d=\"M18.56 5.44l.94 2.06.94-2.06 2.06-.94-2.06-.94-.94-2.06-.94 2.06-2.06.94zm-11 1L8.5 8.5l.94-2.06 2.06-.94-2.06-.94L8.5 2.5l-.94 2.06-2.06.94zm10 10l.94 2.06.94-2.06 2.06-.94-2.06-.94-.94-2.06-.94 2.06-2.06.94z\"/><path d=\"M17.41 7.96l-1.37-1.37c-.4-.4-.92-.59-1.43-.59-.52 0-1.04.2-1.43.59L10.3 9.45l-7.72 7.72c-.78.78-.78 2.05 0 2.83L4 21.41c.39.39.9.59 1.41.59.51 0 1.02-.2 1.41-.59l7.78-7.78 2.81-2.81c.8-.78.8-2.07 0-2.86zM5.41 20L4 18.59l7.72-7.72 1.47 1.35L5.41 20z\"/>\n",
              "  </svg>\n",
              "      </button>\n",
              "      \n",
              "  <style>\n",
              "    .colab-df-container {\n",
              "      display:flex;\n",
              "      flex-wrap:wrap;\n",
              "      gap: 12px;\n",
              "    }\n",
              "\n",
              "    .colab-df-convert {\n",
              "      background-color: #E8F0FE;\n",
              "      border: none;\n",
              "      border-radius: 50%;\n",
              "      cursor: pointer;\n",
              "      display: none;\n",
              "      fill: #1967D2;\n",
              "      height: 32px;\n",
              "      padding: 0 0 0 0;\n",
              "      width: 32px;\n",
              "    }\n",
              "\n",
              "    .colab-df-convert:hover {\n",
              "      background-color: #E2EBFA;\n",
              "      box-shadow: 0px 1px 2px rgba(60, 64, 67, 0.3), 0px 1px 3px 1px rgba(60, 64, 67, 0.15);\n",
              "      fill: #174EA6;\n",
              "    }\n",
              "\n",
              "    [theme=dark] .colab-df-convert {\n",
              "      background-color: #3B4455;\n",
              "      fill: #D2E3FC;\n",
              "    }\n",
              "\n",
              "    [theme=dark] .colab-df-convert:hover {\n",
              "      background-color: #434B5C;\n",
              "      box-shadow: 0px 1px 3px 1px rgba(0, 0, 0, 0.15);\n",
              "      filter: drop-shadow(0px 1px 2px rgba(0, 0, 0, 0.3));\n",
              "      fill: #FFFFFF;\n",
              "    }\n",
              "  </style>\n",
              "\n",
              "      <script>\n",
              "        const buttonEl =\n",
              "          document.querySelector('#df-5a206356-1039-47ff-8b20-4d2e11d76c0a button.colab-df-convert');\n",
              "        buttonEl.style.display =\n",
              "          google.colab.kernel.accessAllowed ? 'block' : 'none';\n",
              "\n",
              "        async function convertToInteractive(key) {\n",
              "          const element = document.querySelector('#df-5a206356-1039-47ff-8b20-4d2e11d76c0a');\n",
              "          const dataTable =\n",
              "            await google.colab.kernel.invokeFunction('convertToInteractive',\n",
              "                                                     [key], {});\n",
              "          if (!dataTable) return;\n",
              "\n",
              "          const docLinkHtml = 'Like what you see? Visit the ' +\n",
              "            '<a target=\"_blank\" href=https://colab.research.google.com/notebooks/data_table.ipynb>data table notebook</a>'\n",
              "            + ' to learn more about interactive tables.';\n",
              "          element.innerHTML = '';\n",
              "          dataTable['output_type'] = 'display_data';\n",
              "          await google.colab.output.renderOutput(dataTable, element);\n",
              "          const docLink = document.createElement('div');\n",
              "          docLink.innerHTML = docLinkHtml;\n",
              "          element.appendChild(docLink);\n",
              "        }\n",
              "      </script>\n",
              "    </div>\n",
              "  </div>\n",
              "  "
            ]
          },
          "metadata": {},
          "execution_count": 14
        }
      ]
    },
    {
      "cell_type": "code",
      "source": [
        "from sklearn.manifold import TSNE\n",
        "# Project the data: this step will take several seconds\n",
        "tsne = TSNE(n_components=2, init='random', random_state=0)\n",
        "data_tsne = tsne.fit_transform(MR_scaled)"
      ],
      "metadata": {
        "colab": {
          "base_uri": "https://localhost:8080/"
        },
        "id": "eYVAniw4ji2l",
        "outputId": "854f0eab-5eda-4e3f-a9ee-a2a8fba05ea9"
      },
      "execution_count": null,
      "outputs": [
        {
          "output_type": "stream",
          "name": "stderr",
          "text": [
            "/usr/local/lib/python3.8/dist-packages/sklearn/manifold/_t_sne.py:790: FutureWarning: The default learning rate in TSNE will change from 200.0 to 'auto' in 1.2.\n",
            "  warnings.warn(\n"
          ]
        }
      ]
    },
    {
      "cell_type": "code",
      "source": [
        "from sklearn.manifold import LocallyLinearEmbedding\n",
        "lle = LocallyLinearEmbedding(n_neighbors=100, n_components=2, method='standard',\n",
        "                               eigen_solver='dense')\n",
        "data_lle = lle.fit_transform(MR_scaled)"
      ],
      "metadata": {
        "id": "ya0fl8zXZVlO"
      },
      "execution_count": 43,
      "outputs": []
    },
    {
      "cell_type": "code",
      "source": [
        "list_SS = []\n",
        "for i in range (2,10):    \n",
        "  clusterer = KMeans(n_clusters=i, random_state=10)\n",
        "  cluster_labels = clusterer.fit_predict(data_lle)\n",
        "  silhouette_avg = silhouette_score(data_lle, cluster_labels)\n",
        "  list_SS.append(silhouette_avg)\n",
        "list_SS"
      ],
      "metadata": {
        "colab": {
          "base_uri": "https://localhost:8080/"
        },
        "id": "9-IQw6uPjzkT",
        "outputId": "a6acda14-fd5c-45f3-ff8c-2a43ba7dff06"
      },
      "execution_count": 44,
      "outputs": [
        {
          "output_type": "execute_result",
          "data": {
            "text/plain": [
              "[0.30744754231862537,\n",
              " 0.3493439407484806,\n",
              " 0.32932622271846784,\n",
              " 0.3243413964029944,\n",
              " 0.3313923683158614,\n",
              " 0.32972607440850005,\n",
              " 0.3237262621109263,\n",
              " 0.3173384476794003]"
            ]
          },
          "metadata": {},
          "execution_count": 44
        }
      ]
    },
    {
      "cell_type": "code",
      "source": [
        "plt.plot(xx,list_SS)"
      ],
      "metadata": {
        "colab": {
          "base_uri": "https://localhost:8080/",
          "height": 283
        },
        "id": "4OFPwdF9kFIX",
        "outputId": "27f16cae-1b83-4fe7-a9c4-fa506a093856"
      },
      "execution_count": 45,
      "outputs": [
        {
          "output_type": "execute_result",
          "data": {
            "text/plain": [
              "[<matplotlib.lines.Line2D at 0x7f2022238730>]"
            ]
          },
          "metadata": {},
          "execution_count": 45
        },
        {
          "output_type": "display_data",
          "data": {
            "text/plain": [
              "<Figure size 432x288 with 1 Axes>"
            ],
            "image/png": "[encoded data removed]"
          },
          "metadata": {
            "needs_background": "light"
          }
        }
      ]
    },
    {
      "cell_type": "code",
      "source": [
        "kmeans = KMeans(n_clusters=3, random_state=0)\n",
        "clusters = kmeans.fit_predict(data_lle)\n",
        "clusters"
      ],
      "metadata": {
        "colab": {
          "base_uri": "https://localhost:8080/"
        },
        "id": "0CqDsaFrkNGW",
        "outputId": "ea0f4198-e285-49af-e404-8f5c96f3ff69"
      },
      "execution_count": 46,
      "outputs": [
        {
          "output_type": "execute_result",
          "data": {
            "text/plain": [
              "array([2, 0, 1, ..., 1, 1, 0], dtype=int32)"
            ]
          },
          "metadata": {},
          "execution_count": 46
        }
      ]
    },
    {
      "cell_type": "code",
      "source": [
        "clusters_pd = pd.DataFrame(clusters)\n",
        "clusters_pd.value_counts()"
      ],
      "metadata": {
        "colab": {
          "base_uri": "https://localhost:8080/"
        },
        "id": "52A-vw9mkY2u",
        "outputId": "8284f48a-f533-451f-8bb7-94de729f469f"
      },
      "execution_count": 47,
      "outputs": [
        {
          "output_type": "execute_result",
          "data": {
            "text/plain": [
              "2    602\n",
              "0    541\n",
              "1    452\n",
              "dtype: int64"
            ]
          },
          "metadata": {},
          "execution_count": 47
        }
      ]
    },
    {
      "cell_type": "code",
      "source": [
        "MR_data.pivot_table('CSFVOL', index=clusters, columns=data['CDRGLOB'], aggfunc=\"count\")"
      ],
      "metadata": {
        "colab": {
          "base_uri": "https://localhost:8080/",
          "height": 143
        },
        "id": "wzA1iyRhkgi7",
        "outputId": "8c5baeeb-f3ab-455c-dd6e-d0f688b10aec"
      },
      "execution_count": 48,
      "outputs": [
        {
          "output_type": "execute_result",
          "data": {
            "text/plain": [
              "CDRGLOB    0    1   2   3\n",
              "0        342  171  22   6\n",
              "1        167  147  92  46\n",
              "2        465   97  36   4"
            ],
            "text/html": [
              "\n",
              "  <div id=\"df-00add5a0-342b-46d2-9654-a97d82634d5d\">\n",
              "    <div class=\"colab-df-container\">\n",
              "      <div>\n",
              "<style scoped>\n",
              "    .dataframe tbody tr th:only-of-type {\n",
              "        vertical-align: middle;\n",
              "    }\n",
              "\n",
              "    .dataframe tbody tr th {\n",
              "        vertical-align: top;\n",
              "    }\n",
              "\n",
              "    .dataframe thead th {\n",
              "        text-align: right;\n",
              "    }\n",
              "</style>\n",
              "<table border=\"1\" class=\"dataframe\">\n",
              "  <thead>\n",
              "    <tr style=\"text-align: right;\">\n",
              "      <th>CDRGLOB</th>\n",
              "      <th>0</th>\n",
              "      <th>1</th>\n",
              "      <th>2</th>\n",
              "      <th>3</th>\n",
              "    </tr>\n",
              "  </thead>\n",
              "  <tbody>\n",
              "    <tr>\n",
              "      <th>0</th>\n",
              "      <td>342</td>\n",
              "      <td>171</td>\n",
              "      <td>22</td>\n",
              "      <td>6</td>\n",
              "    </tr>\n",
              "    <tr>\n",
              "      <th>1</th>\n",
              "      <td>167</td>\n",
              "      <td>147</td>\n",
              "      <td>92</td>\n",
              "      <td>46</td>\n",
              "    </tr>\n",
              "    <tr>\n",
              "      <th>2</th>\n",
              "      <td>465</td>\n",
              "      <td>97</td>\n",
              "      <td>36</td>\n",
              "      <td>4</td>\n",
              "    </tr>\n",
              "  </tbody>\n",
              "</table>\n",
              "</div>\n",
              "      <button class=\"colab-df-convert\" onclick=\"convertToInteractive('df-00add5a0-342b-46d2-9654-a97d82634d5d')\"\n",
              "              title=\"Convert this dataframe to an interactive table.\"\n",
              "              style=\"display:none;\">\n",
              "        \n",
              "  <svg xmlns=\"http://www.w3.org/2000/svg\" height=\"24px\"viewBox=\"0 0 24 24\"\n",
              "       width=\"24px\">\n",
              "    <path d=\"M0 0h24v24H0V0z\" fill=\"none\"/>\n",
              "    <path d=\"M18.56 5.44l.94 2.06.94-2.06 2.06-.94-2.06-.94-.94-2.06-.94 2.06-2.06.94zm-11 1L8.5 8.5l.94-2.06 2.06-.94-2.06-.94L8.5 2.5l-.94 2.06-2.06.94zm10 10l.94 2.06.94-2.06 2.06-.94-2.06-.94-.94-2.06-.94 2.06-2.06.94z\"/><path d=\"M17.41 7.96l-1.37-1.37c-.4-.4-.92-.59-1.43-.59-.52 0-1.04.2-1.43.59L10.3 9.45l-7.72 7.72c-.78.78-.78 2.05 0 2.83L4 21.41c.39.39.9.59 1.41.59.51 0 1.02-.2 1.41-.59l7.78-7.78 2.81-2.81c.8-.78.8-2.07 0-2.86zM5.41 20L4 18.59l7.72-7.72 1.47 1.35L5.41 20z\"/>\n",
              "  </svg>\n",
              "      </button>\n",
              "      \n",
              "  <style>\n",
              "    .colab-df-container {\n",
              "      display:flex;\n",
              "      flex-wrap:wrap;\n",
              "      gap: 12px;\n",
              "    }\n",
              "\n",
              "    .colab-df-convert {\n",
              "      background-color: #E8F0FE;\n",
              "      border: none;\n",
              "      border-radius: 50%;\n",
              "      cursor: pointer;\n",
              "      display: none;\n",
              "      fill: #1967D2;\n",
              "      height: 32px;\n",
              "      padding: 0 0 0 0;\n",
              "      width: 32px;\n",
              "    }\n",
              "\n",
              "    .colab-df-convert:hover {\n",
              "      background-color: #E2EBFA;\n",
              "      box-shadow: 0px 1px 2px rgba(60, 64, 67, 0.3), 0px 1px 3px 1px rgba(60, 64, 67, 0.15);\n",
              "      fill: #174EA6;\n",
              "    }\n",
              "\n",
              "    [theme=dark] .colab-df-convert {\n",
              "      background-color: #3B4455;\n",
              "      fill: #D2E3FC;\n",
              "    }\n",
              "\n",
              "    [theme=dark] .colab-df-convert:hover {\n",
              "      background-color: #434B5C;\n",
              "      box-shadow: 0px 1px 3px 1px rgba(0, 0, 0, 0.15);\n",
              "      filter: drop-shadow(0px 1px 2px rgba(0, 0, 0, 0.3));\n",
              "      fill: #FFFFFF;\n",
              "    }\n",
              "  </style>\n",
              "\n",
              "      <script>\n",
              "        const buttonEl =\n",
              "          document.querySelector('#df-00add5a0-342b-46d2-9654-a97d82634d5d button.colab-df-convert');\n",
              "        buttonEl.style.display =\n",
              "          google.colab.kernel.accessAllowed ? 'block' : 'none';\n",
              "\n",
              "        async function convertToInteractive(key) {\n",
              "          const element = document.querySelector('#df-00add5a0-342b-46d2-9654-a97d82634d5d');\n",
              "          const dataTable =\n",
              "            await google.colab.kernel.invokeFunction('convertToInteractive',\n",
              "                                                     [key], {});\n",
              "          if (!dataTable) return;\n",
              "\n",
              "          const docLinkHtml = 'Like what you see? Visit the ' +\n",
              "            '<a target=\"_blank\" href=https://colab.research.google.com/notebooks/data_table.ipynb>data table notebook</a>'\n",
              "            + ' to learn more about interactive tables.';\n",
              "          element.innerHTML = '';\n",
              "          dataTable['output_type'] = 'display_data';\n",
              "          await google.colab.output.renderOutput(dataTable, element);\n",
              "          const docLink = document.createElement('div');\n",
              "          docLink.innerHTML = docLinkHtml;\n",
              "          element.appendChild(docLink);\n",
              "        }\n",
              "      </script>\n",
              "    </div>\n",
              "  </div>\n",
              "  "
            ]
          },
          "metadata": {},
          "execution_count": 48
        }
      ]
    },
    {
      "cell_type": "code",
      "source": [
        "plt.scatter(data_lle[:,0], data_lle[:,1], c=clusters)"
      ],
      "metadata": {
        "colab": {
          "base_uri": "https://localhost:8080/",
          "height": 283
        },
        "id": "4sA2f2Ovkmmj",
        "outputId": "2020286c-71de-4173-8738-4f8427aee7dc"
      },
      "execution_count": 49,
      "outputs": [
        {
          "output_type": "execute_result",
          "data": {
            "text/plain": [
              "<matplotlib.collections.PathCollection at 0x7f2022215a00>"
            ]
          },
          "metadata": {},
          "execution_count": 49
        },
        {
          "output_type": "display_data",
          "data": {
            "text/plain": [
              "<Figure size 432x288 with 1 Axes>"
            ],
            "image/png": "[encoded data removed]"
          },
          "metadata": {
            "needs_background": "light"
          }
        }
      ]
    },
    {
      "cell_type": "code",
      "source": [
        "plt.legend(*plt.scatter(data_lle[:,0], data_lle[:,1], c=data[\"CDRGLOB\"]).legend_elements(), title='clusters')"
      ],
      "metadata": {
        "colab": {
          "base_uri": "https://localhost:8080/",
          "height": 283
        },
        "id": "nxjtBCLQk7-y",
        "outputId": "196af3c0-90a4-4246-d860-faecb6a23edc"
      },
      "execution_count": 50,
      "outputs": [
        {
          "output_type": "execute_result",
          "data": {
            "text/plain": [
              "<matplotlib.legend.Legend at 0x7f20221e96a0>"
            ]
          },
          "metadata": {},
          "execution_count": 50
        },
        {
          "output_type": "display_data",
          "data": {
            "text/plain": [
              "<Figure size 432x288 with 1 Axes>"
            ],
            "image/png": "[encoded data removed]"
          },
          "metadata": {
            "needs_background": "light"
          }
        }
      ]
    },
    {
      "cell_type": "code",
      "source": [],
      "metadata": {
        "id": "RrxSR7V_lg_I"
      },
      "execution_count": null,
      "outputs": []
    },
    {
      "cell_type": "markdown",
      "source": [
        "TASK-12: Instead of tSNE, please use (A) PCA, (B) LLE, (C) Isomap algorithms to provide a comparison among different approaches as we did for tSNE (finding the ideal number of clusters (silhouettee score, pivot tables, and scatter plots). As a final note, please use just the veery ffirst 2 components while using these algorithms. "
      ],
      "metadata": {
        "id": "iwzFzRhklhyc"
      }
    }
  ]
}